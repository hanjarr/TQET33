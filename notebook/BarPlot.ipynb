{
 "cells": [
  {
   "cell_type": "code",
   "execution_count": 1,
   "metadata": {
    "collapsed": false
   },
   "outputs": [],
   "source": [
    "import numpy as np\n",
    "import matplotlib.pyplot as plt\n",
    "\n",
    "fig = plt.figure(frameon =False)\n",
    "ax = fig.add_subplot(111)\n",
    "\n",
    "## the data\n",
    "N = 2\n",
    "regMeans = [4.17, 3.79]\n",
    "regStd =   [1.85, 2.65]\n",
    "nccMeans = [7.44, 6.51]\n",
    "nccStd =   [2.95, 4.17]\n",
    "\n",
    "## necessary variables\n",
    "ind = np.arange(N)                # the x locations for the groups\n",
    "width = 0.35                      # the width of the bars\n",
    "\n",
    "## the bars\n",
    "rects1 = ax.bar(ind, regMeans, width,\n",
    "                color='blue',\n",
    "                yerr=regStd,\n",
    "                error_kw=dict(elinewidth=2,ecolor='black'))\n",
    "\n",
    "rects2 = ax.bar(ind+width, nccMeans, width,\n",
    "                    color='red',\n",
    "                    yerr=nccStd,\n",
    "                    error_kw=dict(elinewidth=2,ecolor='black'))\n",
    "\n",
    "# axes and labels\n",
    "ax.set_xlim(-width,len(ind)+width)\n",
    "ax.set_ylim(0,15)\n",
    "ax.set_ylabel('Euclidean diviation in mm')\n",
    "ax.set_title('')\n",
    "xTickMarks = ['LF', 'RF']\n",
    "ax.set_xticks(ind+width)\n",
    "xtickNames = ax.set_xticklabels(xTickMarks)\n",
    "plt.setp(xtickNames, rotation=45, fontsize=10)\n",
    "\n",
    "\n",
    "## add a legend\n",
    "ax.legend( (rects1[0], rects2[0]), ('Regression', 'Morphon') )\n",
    "\n",
    "plt.show()"
   ]
  },
  {
   "cell_type": "code",
   "execution_count": null,
   "metadata": {
    "collapsed": true
   },
   "outputs": [],
   "source": []
  }
 ],
 "metadata": {
  "kernelspec": {
   "display_name": "Python 3",
   "language": "python",
   "name": "python3"
  },
  "language_info": {
   "codemirror_mode": {
    "name": "ipython",
    "version": 3
   },
   "file_extension": ".py",
   "mimetype": "text/x-python",
   "name": "python",
   "nbconvert_exporter": "python",
   "pygments_lexer": "ipython3",
   "version": "3.4.3+"
  }
 },
 "nbformat": 4,
 "nbformat_minor": 0
}
