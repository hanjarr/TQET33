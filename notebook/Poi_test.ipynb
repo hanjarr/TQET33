{
 "cells": [
  {
   "cell_type": "code",
   "execution_count": 1,
   "metadata": {
    "collapsed": true
   },
   "outputs": [],
   "source": [
    "from amrafile import amrafile as af"
   ]
  },
  {
   "cell_type": "code",
   "execution_count": 12,
   "metadata": {
    "collapsed": false
   },
   "outputs": [],
   "source": [
    "testSignal = af.parse('/moria/data/DB/0064/00025/wholebody_normalized_water_1_00025.amra')"
   ]
  },
  {
   "cell_type": "code",
   "execution_count": 3,
   "metadata": {
    "collapsed": true
   },
   "outputs": [],
   "source": [
    "prototypePath = '/home/hannes/DB/0030/0015E/prototypes'"
   ]
  },
  {
   "cell_type": "code",
   "execution_count": 4,
   "metadata": {
    "collapsed": true
   },
   "outputs": [],
   "source": [
    "from os import listdir"
   ]
  },
  {
   "cell_type": "code",
   "execution_count": 5,
   "metadata": {
    "collapsed": true
   },
   "outputs": [],
   "source": [
    "import os"
   ]
  },
  {
   "cell_type": "code",
   "execution_count": 6,
   "metadata": {
    "collapsed": true
   },
   "outputs": [],
   "source": [
    "from os.path import isfile, join"
   ]
  },
  {
   "cell_type": "code",
   "execution_count": 7,
   "metadata": {
    "collapsed": false
   },
   "outputs": [],
   "source": [
    "prototypes = [join(prototypePath,f) for f in listdir(prototypePath)  if isfile(join(prototypePath, f))]"
   ]
  },
  {
   "cell_type": "code",
   "execution_count": 8,
   "metadata": {
    "collapsed": false
   },
   "outputs": [],
   "source": [
    "prototypeSignals = []\n",
    "for prototype in prototypes:\n",
    "    prototypeSignals.append(af.parse(prototype))\n",
    "    "
   ]
  },
  {
   "cell_type": "code",
   "execution_count": 9,
   "metadata": {
    "collapsed": true
   },
   "outputs": [],
   "source": [
    "prototypesT9 = []\n",
    "for signal in prototypeSignals:\n",
    "    prototypesT9.append(signal.get_poi('T9'))"
   ]
  },
  {
   "cell_type": "code",
   "execution_count": 10,
   "metadata": {
    "collapsed": true
   },
   "outputs": [],
   "source": [
    "import numpy as np"
   ]
  },
  {
   "cell_type": "code",
   "execution_count": 11,
   "metadata": {
    "collapsed": true
   },
   "outputs": [],
   "source": [
    "prototypeData = np.array(prototypesT9)"
   ]
  },
  {
   "cell_type": "code",
   "execution_count": 3,
   "metadata": {
    "collapsed": false
   },
   "outputs": [
    {
     "data": {
      "text/plain": [
       "(2.9959349632263184, 2.2299745082855225, 2.227569580078125)"
      ]
     },
     "execution_count": 3,
     "metadata": {},
     "output_type": "execute_result"
    }
   ],
   "source": [
    "testSignal.voxel_size()"
   ]
  },
  {
   "cell_type": "code",
   "execution_count": 19,
   "metadata": {
    "collapsed": false
   },
   "outputs": [
    {
     "data": {
      "text/plain": [
       "(3.2223719081213305, 2.2321429252624512, 2.2321429252624512)"
      ]
     },
     "execution_count": 19,
     "metadata": {},
     "output_type": "execute_result"
    }
   ],
   "source": [
    "prototypeSignals[0].voxel_size()"
   ]
  },
  {
   "cell_type": "code",
   "execution_count": 14,
   "metadata": {
    "collapsed": true
   },
   "outputs": [],
   "source": [
    "T9 = signal.get_poi('T9')"
   ]
  },
  {
   "cell_type": "code",
   "execution_count": 13,
   "metadata": {
    "collapsed": false
   },
   "outputs": [
    {
     "data": {
      "text/plain": [
       "[((170, 95, 154), 'LeftFemur'),\n",
       " ((172, 93, 68), 'RightFemur'),\n",
       " ((196, 108, 111), 'S1'),\n",
       " ((210, 101, 111), 'L5'),\n",
       " ((222, 102, 112), 'L4'),\n",
       " ((234, 105, 111), 'L3'),\n",
       " ((246, 108, 111), 'L2'),\n",
       " ((256, 111, 112), 'L1'),\n",
       " ((267, 113, 112), 'T12'),\n",
       " ((276, 114, 112), 'T11'),\n",
       " ((285, 115, 112), 'T10'),\n",
       " ((292, 117, 113), 'T9'),\n",
       " ((334, 70, 114), 'Manubrium'),\n",
       " ((344, 85, 27), 'RightHumerus'),\n",
       " ((350, 91, 196), 'LeftHumerus')]"
      ]
     },
     "execution_count": 13,
     "metadata": {},
     "output_type": "execute_result"
    }
   ],
   "source": [
    "testSignal.get_pois()"
   ]
  },
  {
   "cell_type": "code",
   "execution_count": 15,
   "metadata": {
    "collapsed": false
   },
   "outputs": [
    {
     "data": {
      "text/plain": [
       "(263, 120, 100)"
      ]
     },
     "execution_count": 15,
     "metadata": {},
     "output_type": "execute_result"
    }
   ],
   "source": [
    "T9"
   ]
  },
  {
   "cell_type": "code",
   "execution_count": 16,
   "metadata": {
    "collapsed": false
   },
   "outputs": [
    {
     "data": {
      "text/plain": [
       "(344, 174, 224)"
      ]
     },
     "execution_count": 16,
     "metadata": {},
     "output_type": "execute_result"
    }
   ],
   "source": [
    "signal.data.shape"
   ]
  },
  {
   "cell_type": "raw",
   "metadata": {},
   "source": [
    "prototypesT9"
   ]
  },
  {
   "cell_type": "code",
   "execution_count": 17,
   "metadata": {
    "collapsed": false
   },
   "outputs": [
    {
     "data": {
      "text/plain": [
       "[(268, 116, 95),\n",
       " (272, 122, 97),\n",
       " (263, 113, 99),\n",
       " (261, 118, 98),\n",
       " (273, 125, 100),\n",
       " (269, 124, 100),\n",
       " (268, 122, 101),\n",
       " (258, 124, 96),\n",
       " (267, 119, 101),\n",
       " (259, 126, 101),\n",
       " (267, 124, 99),\n",
       " (255, 126, 102),\n",
       " (275, 128, 102),\n",
       " (268, 122, 100),\n",
       " (263, 123, 102),\n",
       " (266, 123, 97),\n",
       " (270, 121, 100),\n",
       " (266, 120, 99),\n",
       " (264, 120, 102),\n",
       " (269, 119, 97),\n",
       " (262, 116, 96),\n",
       " (267, 125, 101),\n",
       " (262, 120, 100),\n",
       " (268, 128, 100),\n",
       " (268, 119, 101),\n",
       " (266, 118, 99),\n",
       " (261, 124, 97),\n",
       " (261, 119, 99),\n",
       " (263, 120, 100)]"
      ]
     },
     "execution_count": 17,
     "metadata": {},
     "output_type": "execute_result"
    }
   ],
   "source": [
    "prototypesT9"
   ]
  },
  {
   "cell_type": "code",
   "execution_count": 18,
   "metadata": {
    "collapsed": false
   },
   "outputs": [
    {
     "data": {
      "text/plain": [
       "array([ 5941.55555556,  5972.22222222,  5510.22222222,  5268.66666667,\n",
       "        5828.66666667,  5573.55555556,  5516.22222222,  4998.22222222,\n",
       "        5531.55555556,  4808.66666667,  5477.55555556,  4514.        ,\n",
       "        5801.55555556,  5558.22222222,  5106.88888889,  5520.66666667,\n",
       "        5726.88888889,  5516.22222222,  5256.        ,  5840.88888889,\n",
       "        5474.66666667,  5366.22222222,  5200.88888889,  5400.88888889,\n",
       "        5601.55555556,  5572.66666667,  5154.88888889,  5200.88888889,\n",
       "        5268.66666667])"
      ]
     },
     "execution_count": 18,
     "metadata": {},
     "output_type": "execute_result"
    }
   ],
   "source": [
    "np.var(prototypesT9,axis = 1)"
   ]
  },
  {
   "cell_type": "code",
   "execution_count": 19,
   "metadata": {
    "collapsed": false
   },
   "outputs": [
    {
     "data": {
      "text/plain": [
       "array([ 5941.55555556,  5972.22222222,  5510.22222222,  5268.66666667,\n",
       "        5828.66666667,  5573.55555556,  5516.22222222,  4998.22222222,\n",
       "        5531.55555556,  4808.66666667,  5477.55555556,  4514.        ,\n",
       "        5801.55555556,  5558.22222222,  5106.88888889,  5520.66666667,\n",
       "        5726.88888889,  5516.22222222,  5256.        ,  5840.88888889,\n",
       "        5474.66666667,  5366.22222222,  5200.88888889,  5400.88888889,\n",
       "        5601.55555556,  5572.66666667,  5154.88888889,  5200.88888889,\n",
       "        5268.66666667])"
      ]
     },
     "execution_count": 19,
     "metadata": {},
     "output_type": "execute_result"
    }
   ],
   "source": [
    "np.var(np.array(prototypesT9),axis = 1)"
   ]
  },
  {
   "cell_type": "code",
   "execution_count": 20,
   "metadata": {
    "collapsed": false
   },
   "outputs": [
    {
     "data": {
      "text/plain": [
       "array([ 20.24970273,  12.80142687,   3.81212842])"
      ]
     },
     "execution_count": 20,
     "metadata": {},
     "output_type": "execute_result"
    }
   ],
   "source": [
    "np.var(np.array(prototypesT9),axis = 0)"
   ]
  },
  {
   "cell_type": "code",
   "execution_count": 21,
   "metadata": {
    "collapsed": true
   },
   "outputs": [],
   "source": [
    "prototypesLF = []\n",
    "for signal in prototypeSignals:\n",
    "    prototypesLF.append(signal.get_poi('LeftFemur'))"
   ]
  },
  {
   "cell_type": "code",
   "execution_count": 22,
   "metadata": {
    "collapsed": false
   },
   "outputs": [
    {
     "data": {
      "text/plain": [
       "array([ 2.00475624,  3.16765755,  5.55053508])"
      ]
     },
     "execution_count": 22,
     "metadata": {},
     "output_type": "execute_result"
    }
   ],
   "source": [
    "np.var(np.array(prototypesLF),axis = 0)"
   ]
  },
  {
   "cell_type": "code",
   "execution_count": 23,
   "metadata": {
    "collapsed": true
   },
   "outputs": [],
   "source": [
    "prototypesRF = []\n",
    "for signal in prototypeSignals:\n",
    "    prototypesRF.append(signal.get_poi('RightFemur'))"
   ]
  },
  {
   "cell_type": "code",
   "execution_count": 24,
   "metadata": {
    "collapsed": false
   },
   "outputs": [
    {
     "data": {
      "text/plain": [
       "array([ 2.57074911,  4.32580262,  4.22592152])"
      ]
     },
     "execution_count": 24,
     "metadata": {},
     "output_type": "execute_result"
    }
   ],
   "source": [
    "np.var(np.array(prototypesRF),axis = 0)"
   ]
  },
  {
   "cell_type": "code",
   "execution_count": 10,
   "metadata": {
    "collapsed": false
   },
   "outputs": [
    {
     "data": {
      "text/plain": [
       "-194.19644165039062"
      ]
     },
     "execution_count": 10,
     "metadata": {},
     "output_type": "execute_result"
    }
   ],
   "source": [
    "testSignal.y_offset"
   ]
  },
  {
   "cell_type": "code",
   "execution_count": null,
   "metadata": {
    "collapsed": true
   },
   "outputs": [],
   "source": []
  }
 ],
 "metadata": {
  "kernelspec": {
   "display_name": "Python 3",
   "language": "python",
   "name": "python3"
  },
  "language_info": {
   "codemirror_mode": {
    "name": "ipython",
    "version": 3
   },
   "file_extension": ".py",
   "mimetype": "text/x-python",
   "name": "python",
   "nbconvert_exporter": "python",
   "pygments_lexer": "ipython3",
   "version": "3.4.3+"
  }
 },
 "nbformat": 4,
 "nbformat_minor": 0
}
