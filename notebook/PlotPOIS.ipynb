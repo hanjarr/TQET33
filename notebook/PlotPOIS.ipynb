{
 "cells": [
  {
   "cell_type": "code",
   "execution_count": 11,
   "metadata": {
    "collapsed": false
   },
   "outputs": [],
   "source": [
    "import numpy as np\n",
    "from amrafile import amrafile as af\n",
    "from amracommon.analysis.registration import normalized_cross_correlation\n",
    "import matplotlib.pyplot as plt\n",
    "from matplotlib.patches import Rectangle\n",
    "\n",
    "\n",
    "testTargets =  [\"0015B\"]#,\"0013B\",\"0013C\",\"0013D\",\"0013E\",\"0013F\",\"00130\",\"00131\",\n",
    "     #\"00132\",\"00133\",\"00134\",\"00135\",\"00136\",\"00137\",\"0014A\",\"0014B\"]\n",
    "     #\"0014D\",\"0014F\",\"00140\",\"00141\",\"00142\",\"00143\",\"00144\",\"00145\",\n",
    "     #\"00146\",\"00147\",\"0015A\",\"0015B\",\"0015C\",\"0015D\",\"0015E\",\"0015F\",\n",
    "     #\"00152\",\"00154\",\"00155\",\"00156\",\"00157\",\"00158\",\"00159\"]\n",
    "        \n",
    "reduced_size = [3,10,10]\n",
    "\n",
    "for target in testTargets:\n",
    "\n",
    "    signal = af.parse('/moria/data/DB/0030/'+target+'/wholebody_normalized_water_1_'+target+'.amra')\n",
    "    \n",
    "    T9 = signal.get_poi('T9')\n",
    "    LF = signal.get_poi('LeftFemur')\n",
    "    RF = signal.get_poi('RightFemur')\n",
    "\n",
    "\n",
    "    plt.figure(frameon =False)\n",
    "    currentAxis = plt.gca()\n",
    "    plt.imshow((signal.data[:, T9[1],:]), plt.get_cmap('gray'), origin='lower', interpolation='spline16')\n",
    "    plt.autoscale(False)\n",
    "    plt.plot(T9[2], T9[0], marker='o', color='g')\n",
    "    plt.plot(LF[2], LF[0], marker='o', color='g')\n",
    "    plt.plot(RF[2], RF[0], marker='o', color='g')\n",
    "    \n",
    "    currentAxis.add_patch(Rectangle((T9[2]-reduced_size[2],\\\n",
    "        T9[0]-reduced_size[0]), reduced_size[2]*2+1, reduced_size[0]*2+1, fill=None, edgecolor=\"blue\"))\n",
    "\n",
    "plt.show()"
   ]
  },
  {
   "cell_type": "code",
   "execution_count": null,
   "metadata": {
    "collapsed": true
   },
   "outputs": [],
   "source": []
  }
 ],
 "metadata": {
  "kernelspec": {
   "display_name": "Python 3",
   "language": "python",
   "name": "python3"
  },
  "language_info": {
   "codemirror_mode": {
    "name": "ipython",
    "version": 3
   },
   "file_extension": ".py",
   "mimetype": "text/x-python",
   "name": "python",
   "nbconvert_exporter": "python",
   "pygments_lexer": "ipython3",
   "version": "3.4.3+"
  }
 },
 "nbformat": 4,
 "nbformat_minor": 0
}
