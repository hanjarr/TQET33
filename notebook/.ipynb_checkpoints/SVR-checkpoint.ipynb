{
 "cells": [
  {
   "cell_type": "code",
   "execution_count": 9,
   "metadata": {
    "collapsed": false,
    "scrolled": true
   },
   "outputs": [
    {
     "name": "stdout",
     "output_type": "stream",
     "text": [
      "(2,)\n",
      "(2, 2)\n",
      "(3, 2)\n",
      "(4, 2)\n",
      "(5, 2)\n",
      "(6, 2)\n",
      "(7, 2)\n",
      "(8, 2)\n"
     ]
    },
    {
     "data": {
      "text/plain": [
       "ExtraTreesRegressor(bootstrap=False, criterion='mse', max_depth=None,\n",
       "          max_features='auto', max_leaf_nodes=None, min_samples_leaf=1,\n",
       "          min_samples_split=2, min_weight_fraction_leaf=0.0,\n",
       "          n_estimators=10, n_jobs=1, oob_score=False, random_state=None,\n",
       "          verbose=0, warm_start=False)"
      ]
     },
     "execution_count": 9,
     "metadata": {},
     "output_type": "execute_result"
    }
   ],
   "source": [
    "from sklearn.preprocessing import StandardScaler  \n",
    "from sklearn.neighbors import KNeighborsRegressor\n",
    "from sklearn.ensemble import ExtraTreesRegressor\n",
    "import numpy as np\n",
    "from amrafile import amrafile as af\n",
    "from amracommon.analysis.registration import normalized_cross_correlation\n",
    "import matplotlib.pyplot as plt\n",
    "\n",
    "trainTargets = [\"00002\",\"00003\",\"00004\",\"00005\",\"00006\",\"00007\",\"00008\",\"00009\",\n",
    "   \"0000A\",\"0000B\",\"0000C\",\"0000D\",\"0000E\",\"0000F\",\"00010\",\"00011\",\n",
    "   \"00012\",\"00013\",\"00014\",\"00015\",\"00016\",\"00017\",\"00018\",\"00019\",\n",
    "   \"00055\",\"000B2\",\"0010F\",\"0016D\",\"001C9\",\"00226\",\"00288\",\"002E4\",\n",
    "   \"00341\",\"0039E\",\"003FB\",\"00056\",\"000B3\",\"00110\",\"0016E\",\"001CA\", \n",
    "   \"00227\",\"00289\",\"002E5\",\"00342\",\"0039F\",\"003FC\",\"00057\",\"000B4\",\n",
    "   \"00111\",\"0016F\",\"001CB\",\"00228\",\"0028A\",\"002E6\",\"00343\",\"003A0\",\n",
    "   \"003FD\",\"00058\",\"000B5\",\"00112\",\"00170\",\"001CC\",\"00229\",\"0028B\",\n",
    "   \"002E7\",\"00344\",\"003A1\",\"003FE\",\"00059\",\"000B6\",\"00113\",\"00171\",\n",
    "   \"001CD\",\"0022A\",\"0028C\",\"002E8\",\"00345\",\"003A2\",\"003FF\",\"0005A\",\n",
    "   \"000B7\",\"00114\",\"00172\",\"001CE\",\"0022C\",\"0028D\",\"002E9\",\"00346\",\n",
    "   \"003A3\",\"00400\",\"0005B\",\"000B8\",\"00115\",\"00173\",\"001CF\",\"0022D\",\n",
    "   \"0028E\",\"002EA\",\"00347\",\"003A4\",\"00401\",\"0005C\",\"000B9\",\"00116\",\n",
    "   \"00174\",\"001D0\",\"0022E\",\"0028F\",\"002EB\",\"00348\",\"003A5\",\"00402\"]\n",
    "\n",
    "testTargets =  [\"0013A\",\"0013B\",\"0013C\",\"0013D\",\"0013E\",\"0013F\",\"00130\",\"00131\",\n",
    "     \"00132\",\"00133\",\"00134\",\"00135\",\"00136\",\"00137\",\"0014A\",\"0014B\",\n",
    "     \"0014D\",\"0014F\",\"00140\",\"00141\",\"00142\",\"00143\",\"00144\",\"00145\",\n",
    "     \"00146\",\"00147\",\"0015A\",\"0015B\",\"0015C\",\"0015D\",\"0015E\",\"0015F\",\n",
    "     \"00152\",\"00154\",\"00155\",\"00156\",\"00157\",\"00158\",\"00159\"]\n",
    "\n",
    "features, groundTruth = np.array([]), np.array([])\n",
    "\n",
    "for target in trainTargets:\n",
    "\n",
    "    signal = af.parse('/moria/data/DB/0030/'+target+'/wholebody_normalized_water_1_'+target+'.amra')\n",
    "    \n",
    "    rf = signal.get_poi('RightFemur')\n",
    "    lf = signal.get_poi('LeftFemur')\n",
    "    \n",
    "    T9 = signal.get_poi('T9')\n",
    "    \n",
    "    meanFemur = np.round((lf[0]+rf[0])/2)\n",
    "    \n",
    "    voxelSizes = np.array([signal.voxel_size_z, signal.voxel_size_y, signal.voxel_size_x])\n",
    "    \n",
    "    femurDist = abs(np.sqrt(np.sum(((np.array(rf) - np.array(lf))*voxelSizes)**2)))\n",
    "    \n",
    "    femurHeight = meanFemur*signal.voxel_size_z\n",
    "            \n",
    "    femurT9Dist = np.array([(T9[0] - meanFemur)*signal.voxel_size_z,2])\n",
    "        \n",
    "    tempFeatures = np.array([femurDist, signal.patient_size*1000])\n",
    "    \n",
    "    features = np.vstack([features, tempFeatures]) if features.size else tempFeatures\n",
    "    groundTruth = np.hstack([groundTruth, femurT9Dist]) if groundTruth.size else femurT9Dist\n",
    "\n",
    "    \n",
    "scaler = StandardScaler()  \n",
    "scaler.fit(features)\n",
    "                             \n",
    "X_train = scaler.transform(features)\n",
    "y_train = groundTruth\n",
    "                           \n",
    "clf = ExtraTreesRegressor()\n",
    "clf.fit(X_train, y_train)"
   ]
  },
  {
   "cell_type": "code",
   "execution_count": 3,
   "metadata": {
    "collapsed": false
   },
   "outputs": [
    {
     "data": {
      "text/plain": [
       "array([  4.19430894,  15.57886179,  11.38455285,  11.38455285,\n",
       "        35.95121951,   0.        ,   8.98780488,   5.39268293,\n",
       "        20.97154472,  13.78130081,  20.37235772,  14.9796748 ,\n",
       "         1.79756098,  11.98373984,  14.3804878 ,  27.56260163,\n",
       "        28.76097561,  11.38455285,  15.57886179,   6.59105691,\n",
       "         1.19837398,  14.9796748 ,  41.34390244,   2.39674797,\n",
       "        17.37642276,   3.59512195,  10.78536585,  17.37642276,\n",
       "         2.39674797,  20.37235772,   3.59512195,  19.77317073,\n",
       "        20.37235772,   5.99186992,   4.19430894,  11.98373984,\n",
       "         3.59512195,   0.59918699,  13.78130081])"
      ]
     },
     "execution_count": 3,
     "metadata": {},
     "output_type": "execute_result"
    }
   ],
   "source": [
    "features, groundTruth = np.array([]), np.array([])\n",
    "\n",
    "for target in testTargets:\n",
    "\n",
    "    signal = af.parse('/moria/data/DB/0030/'+target+'/wholebody_normalized_water_1_'+target+'.amra')\n",
    "    \n",
    "    rf = signal.get_poi('RightFemur')\n",
    "    lf = signal.get_poi('LeftFemur')\n",
    "    \n",
    "    T9 = signal.get_poi('T9')\n",
    "    \n",
    "    meanFemur = np.round((lf[0]+rf[0])/2)\n",
    "    \n",
    "    voxelSizes = np.array([signal.voxel_size_z, signal.voxel_size_y, signal.voxel_size_x])\n",
    "    \n",
    "    femurDist = abs(np.sqrt(np.sum(((np.array(rf) - np.array(lf))*voxelSizes)**2)))\n",
    "    \n",
    "    femurHeight = meanFemur*signal.voxel_size_z\n",
    "            \n",
    "    femurT9Dist = (T9[0] - meanFemur)*signal.voxel_size_z\n",
    "        \n",
    "    tempFeatures = np.array([femurDist, signal.patient_size*1000])\n",
    "    \n",
    "    features = np.vstack([features, tempFeatures]) if features.size else tempFeatures\n",
    "    groundTruth = np.hstack([groundTruth, femurT9Dist]) if groundTruth.size else femurT9Dist\n",
    "    \n",
    "X_test = scaler.transform(features)\n",
    "prediction = clf.predict(X_test)\n",
    "                           \n",
    "abs(prediction - groundTruth)"
   ]
  },
  {
   "cell_type": "code",
   "execution_count": 4,
   "metadata": {
    "collapsed": false
   },
   "outputs": [
    {
     "data": {
      "text/plain": [
       "array([ 377.48780488,  357.11544715,  365.50406504,  351.12357724,\n",
       "        388.27317073,  384.07886179,  374.49186992,  330.75121951,\n",
       "        350.52439024,  381.08292683,  352.32195122,  336.74308943,\n",
       "        364.30569106,  381.08292683,  346.3300813 ,  349.92520325,\n",
       "        373.89268293,  365.50406504,  350.52439024,  370.29756098,\n",
       "        356.51626016,  339.73902439,  357.11544715,  384.07886179,\n",
       "        351.12357724,  393.66585366,  359.51219512,  346.3300813 ,\n",
       "        361.90894309,  349.32601626,  364.30569106,  370.89674797,\n",
       "        354.71869919,  329.55284553,  370.29756098,  331.3504065 ,\n",
       "        343.33414634,  344.53252033,  354.1195122 ])"
      ]
     },
     "execution_count": 4,
     "metadata": {},
     "output_type": "execute_result"
    }
   ],
   "source": [
    "prediction"
   ]
  },
  {
   "cell_type": "code",
   "execution_count": 61,
   "metadata": {
    "collapsed": false
   },
   "outputs": [],
   "source": [
    "T9 = signal.get_poi('T9')\n",
    "LF = signal.get_poi('LeftFemur')\n",
    "RF = signal.get_poi('RightFemur')"
   ]
  },
  {
   "cell_type": "code",
   "execution_count": 6,
   "metadata": {
    "collapsed": false
   },
   "outputs": [
    {
     "data": {
      "text/plain": [
       "3.3629844921260159"
      ]
     },
     "execution_count": 6,
     "metadata": {},
     "output_type": "execute_result"
    }
   ],
   "source": [
    "np.std((abs(prediction - groundTruth)/signal.voxel_size_z).astype(int))"
   ]
  },
  {
   "cell_type": "code",
   "execution_count": 6,
   "metadata": {
    "collapsed": false
   },
   "outputs": [
    {
     "data": {
      "text/plain": [
       "array([ 374.49186992,  371.49593496,  371.49593496,  356.51626016,\n",
       "        353.5203252 ,  380.48373984,  383.4796748 ,  335.54471545,\n",
       "        368.5       ,  389.47154472,  323.56097561,  326.55691057,\n",
       "        371.49593496,  368.5       ,  371.49593496,  374.49186992,\n",
       "        350.52439024,  353.5203252 ,  332.54878049,  365.50406504,\n",
       "        353.5203252 ,  320.56504065,  401.45528455,  386.47560976,\n",
       "        365.50406504,  386.47560976,  374.49186992,  374.49186992,\n",
       "        344.53252033,  368.5       ,  356.51626016,  395.46341463,\n",
       "        326.55691057,  341.53658537,  365.50406504,  323.56097561,\n",
       "        344.53252033,  341.53658537,  362.50813008])"
      ]
     },
     "execution_count": 6,
     "metadata": {},
     "output_type": "execute_result"
    }
   ],
   "source": [
    "groundTruth"
   ]
  },
  {
   "cell_type": "code",
   "execution_count": null,
   "metadata": {
    "collapsed": true
   },
   "outputs": [],
   "source": []
  }
 ],
 "metadata": {
  "kernelspec": {
   "display_name": "Python 3",
   "language": "python",
   "name": "python3"
  },
  "language_info": {
   "codemirror_mode": {
    "name": "ipython",
    "version": 3
   },
   "file_extension": ".py",
   "mimetype": "text/x-python",
   "name": "python",
   "nbconvert_exporter": "python",
   "pygments_lexer": "ipython3",
   "version": "3.4.3+"
  }
 },
 "nbformat": 4,
 "nbformat_minor": 0
}
