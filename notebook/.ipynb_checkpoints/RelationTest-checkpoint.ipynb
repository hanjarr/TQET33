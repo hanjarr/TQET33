{
 "cells": [
  {
   "cell_type": "code",
   "execution_count": 35,
   "metadata": {
    "collapsed": false
   },
   "outputs": [
    {
     "name": "stdout",
     "output_type": "stream",
     "text": [
      "0.00914649396452\n",
      "[ 344.19933073  353.16577729  347.17817903  365.13883796  362.14931051\n",
      "  356.15316891  365.15806044  380.11637693  380.09288278  398.07703588\n",
      "  338.19464581  338.19250998  341.19912408  371.12002873  320.25107351\n",
      "  359.15337555  371.14779453  374.10955621  356.17025556  386.10183936\n",
      "  365.16019627  434.01330457  365.12815881  350.15916316  305.24576874\n",
      "  353.1743206   368.1262296   356.14248976  341.17562994  389.08068766\n",
      "  320.24253019  365.13883796  356.16811974  392.08516596  368.13050126\n",
      "  362.13649551  299.24535551  374.11596369  344.17583658  356.15316891\n",
      "  377.10121951  416.03128732  410.04155323  353.17645643  356.17239139\n",
      "  380.11637693  323.20856353  350.14207653  344.16942907  383.10376857\n",
      "  338.20746081  347.19312983  365.16873959  344.16942907  389.08709517\n",
      "  335.19230336  371.10721373  350.18692896  392.0808943   350.19120064\n",
      "  368.13690875  377.11189865  335.19657502  356.16171225  350.16984233\n",
      "  356.15744059  368.13263709  344.19505904  338.19891747  365.15592461\n",
      "  341.20125991  350.18692896  368.13477292  368.14331626  347.15895654\n",
      "  353.15082646  380.09288278  353.12946815  341.21834657  362.142903\n",
      "  356.17666305  404.07744911  380.10356195  356.16598391  347.16963571\n",
      "  356.15744059  359.18114135  368.11127877  380.10356195  371.10721373\n",
      "  344.19719487  353.17218478  377.10121951  353.17645643  383.08881774\n",
      "  356.17879888  341.2204824   326.2258568   341.19485243  371.12216456\n",
      "  386.10824684  356.15316891  377.08840451  356.12753894  383.09095357\n",
      "  329.21538425  386.10611102  347.18885817  392.08943762  371.10507791\n",
      "  338.18183084  320.22330771]\n",
      "21.6242940876\n"
     ]
    }
   ],
   "source": [
    "from os import listdir\n",
    "from os.path import isfile, join\n",
    "import os\n",
    "import numpy as np\n",
    "from amrafile import amrafile as af\n",
    "from amracommon.analysis.registration import normalized_cross_correlation\n",
    "import matplotlib.pyplot as plt\n",
    "\n",
    "trainTargets = [\"00002\",\"00003\",\"00004\",\"00005\",\"00006\",\"00007\",\"00008\",\"00009\",\n",
    "   \"0000A\",\"0000B\",\"0000C\",\"0000D\",\"0000E\",\"0000F\",\"00010\",\"00011\",\n",
    "   \"00012\",\"00013\",\"00014\",\"00015\",\"00016\",\"00017\",\"00018\",\"00019\",\n",
    "   \"00055\",\"000B2\",\"0010F\",\"0016D\",\"001C9\",\"00226\",\"00288\",\"002E4\",\n",
    "   \"00341\",\"0039E\",\"003FB\",\"00056\",\"000B3\",\"00110\",\"0016E\",\"001CA\", \n",
    "   \"00227\",\"00289\",\"002E5\",\"00342\",\"0039F\",\"003FC\",\"00057\",\"000B4\",\n",
    "   \"00111\",\"0016F\",\"001CB\",\"00228\",\"0028A\",\"002E6\",\"00343\",\"003A0\",\n",
    "   \"003FD\",\"00058\",\"000B5\",\"00112\",\"00170\",\"001CC\",\"00229\",\"0028B\",\n",
    "   \"002E7\",\"00344\",\"003A1\",\"003FE\",\"00059\",\"000B6\",\"00113\",\"00171\",\n",
    "   \"001CD\",\"0022A\",\"0028C\",\"002E8\",\"00345\",\"003A2\",\"003FF\",\"0005A\",\n",
    "   \"000B7\",\"00114\",\"00172\",\"001CE\",\"0022C\",\"0028D\",\"002E9\",\"00346\",\n",
    "   \"003A3\",\"00400\",\"0005B\",\"000B8\",\"00115\",\"00173\",\"001CF\",\"0022D\",\n",
    "   \"0028E\",\"002EA\",\"00347\",\"003A4\",\"00401\",\"0005C\",\"000B9\",\"00116\",\n",
    "   \"00174\",\"001D0\",\"0022E\",\"0028F\",\"002EB\",\"00348\",\"003A5\",\"00402\"]\n",
    "\n",
    "testTargets =  [\"0013A\",\"0013B\",\"0013C\",\"0013D\",\"0013E\",\"0013F\",\"00130\",\"00131\",\n",
    "     \"00132\",\"00133\",\"00134\",\"00135\",\"00136\",\"00137\",\"0014A\",\"0014B\",\n",
    "     \"0014D\",\"0014F\",\"00140\",\"00141\",\"00142\",\"00143\",\"00144\",\"00145\",\n",
    "     \"00146\",\"00147\",\"0015A\",\"0015B\",\"0015C\",\"0015D\",\"0015E\",\"0015F\",\n",
    "     \"00152\",\"00154\",\"00155\",\"00156\",\"00157\",\"00158\",\"00159\"]\n",
    "\n",
    "reduced_size = [22,22,22]\n",
    "\n",
    "relations, patientLength, distances = [], [], []\n",
    "\n",
    "for target in trainTargets:\n",
    "\n",
    "    signal = af.parse('/moria/data/DB/0030/'+target+'/wholebody_normalized_water_1_'+target+'.amra')\n",
    "    \n",
    "    rf = signal.get_poi('RightFemur')\n",
    "    lf = signal.get_poi('LeftFemur')\n",
    "    T9 = signal.get_poi('T9')\n",
    "    \n",
    "    meanFemur = np.round((rf[0]+lf[0])/2)\n",
    "        \n",
    "    femurT9Dist = T9[0] - meanFemur\n",
    "    \n",
    "    dist = femurT9Dist*signal.voxel_size_z\n",
    "    \n",
    "    relation = dist/(signal.patient_size*1000)\n",
    "    \n",
    "    patientLength.append(signal.patient_size)\n",
    "    relations.append(relation)\n",
    "    distances.append(dist)\n",
    "    \n",
    "means = np.mean(relations)\n",
    "\n",
    "error = abs(np.tile(means,np.array(patientLength).shape)*np.array(patientLength)*1000 - np.array(distances))\n",
    "\n",
    "print(np.corrcoef(distances,patientLength, rowvar=0))\n",
    "#fig = plt.figure(frameon=False)\n",
    "#plt.hist(relations)\n",
    "#plt.show()\n",
    "\n",
    "\n",
    "        "
   ]
  },
  {
   "cell_type": "code",
   "execution_count": 45,
   "metadata": {
    "collapsed": false
   },
   "outputs": [],
   "source": [
    "error = abs(np.tile(means,np.array(patientLength).shape)*np.array(patientLength)*1000 - np.array(distances))\n"
   ]
  },
  {
   "cell_type": "code",
   "execution_count": 47,
   "metadata": {
    "collapsed": false
   },
   "outputs": [
    {
     "data": {
      "text/plain": [
       "12.115064823533675"
      ]
     },
     "execution_count": 47,
     "metadata": {},
     "output_type": "execute_result"
    }
   ],
   "source": [
    "np.mean(error)"
   ]
  },
  {
   "cell_type": "code",
   "execution_count": 48,
   "metadata": {
    "collapsed": true
   },
   "outputs": [],
   "source": [
    "target_size = [300,150,150]\n",
    "target_poi = [250,75,75]\n",
    "z_upper = target_size[0]-target_poi[0]\n",
    "z_lower = target_size[0]-z_upper\n",
    "y_upper = target_size[1]-target_poi[1]\n",
    "y_lower = target_size[1]-y_upper\n",
    "x_upper = target_size[2]-target_poi[2]\n",
    "x_lower = target_size[2]-x_upper"
   ]
  },
  {
   "cell_type": "code",
   "execution_count": 49,
   "metadata": {
    "collapsed": false
   },
   "outputs": [
    {
     "data": {
      "text/plain": [
       "50"
      ]
     },
     "execution_count": 49,
     "metadata": {},
     "output_type": "execute_result"
    }
   ],
   "source": [
    "z_upper"
   ]
  },
  {
   "cell_type": "code",
   "execution_count": 50,
   "metadata": {
    "collapsed": false
   },
   "outputs": [
    {
     "data": {
      "text/plain": [
       "250"
      ]
     },
     "execution_count": 50,
     "metadata": {},
     "output_type": "execute_result"
    }
   ],
   "source": [
    "z_lower"
   ]
  },
  {
   "cell_type": "code",
   "execution_count": 51,
   "metadata": {
    "collapsed": false
   },
   "outputs": [
    {
     "data": {
      "text/plain": [
       "75"
      ]
     },
     "execution_count": 51,
     "metadata": {},
     "output_type": "execute_result"
    }
   ],
   "source": [
    "y_lower"
   ]
  },
  {
   "cell_type": "code",
   "execution_count": 52,
   "metadata": {
    "collapsed": false
   },
   "outputs": [
    {
     "data": {
      "text/plain": [
       "75"
      ]
     },
     "execution_count": 52,
     "metadata": {},
     "output_type": "execute_result"
    }
   ],
   "source": [
    "x_lower"
   ]
  },
  {
   "cell_type": "code",
   "execution_count": null,
   "metadata": {
    "collapsed": true
   },
   "outputs": [],
   "source": []
  }
 ],
 "metadata": {
  "kernelspec": {
   "display_name": "Python 3",
   "language": "python",
   "name": "python3"
  },
  "language_info": {
   "codemirror_mode": {
    "name": "ipython",
    "version": 3
   },
   "file_extension": ".py",
   "mimetype": "text/x-python",
   "name": "python",
   "nbconvert_exporter": "python",
   "pygments_lexer": "ipython3",
   "version": "3.4.3+"
  }
 },
 "nbformat": 4,
 "nbformat_minor": 0
}
