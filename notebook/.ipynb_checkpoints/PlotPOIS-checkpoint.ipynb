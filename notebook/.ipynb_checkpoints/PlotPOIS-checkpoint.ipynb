{
 "cells": [
  {
   "cell_type": "code",
   "execution_count": 10,
   "metadata": {
    "collapsed": false
   },
   "outputs": [],
   "source": [
    "import numpy as np\n",
    "from amrafile import amrafile as af\n",
    "from amracommon.analysis.registration import normalized_cross_correlation\n",
    "import matplotlib.pyplot as plt\n",
    "from scipy.ndimage.filters import sobel\n",
    "from matplotlib.patches import Rectangle\n",
    "\n",
    "\n",
    "testTargets =  [\"00001\"]#\",\"0013B\",\"0013C\",\"0013D\",\"0013E\",\"0013F\",\"00130\",\"00131\"]\n",
    "     #\"00132\",\"00133\",\"00134\",\"00135\",\"00136\",\"00137\",\"0014A\",\"0014B\"]\n",
    "     #\"0014D\",\"0014F\",\"00140\",\"00141\",\"00142\",\"00143\",\"00144\",\"00145\",\n",
    "     #\"00146\",\"00147\",\"0015A\",\"0015B\",\"0015C\",\"0015D\",\"0015E\",\"0015F\",\n",
    "     #\"00152\",\"00154\",\"00155\",\"00156\",\"00157\",\"00158\",\"00159\"]\n",
    "        \n",
    "search_size = [12,26,26]\n",
    "\n",
    "tableau20 = [ '#462066','#FFB85F', '#FF7A5A', '#00AAA0', '#8ED2C9']\n",
    "\n",
    "for target in testTargets:\n",
    "\n",
    "    water_signal = af.parse('/moria/data/DB/0064/'+target+'/wholebody_normalized_water_1_'+target+'.amra')\n",
    "    fat_signal = af.parse('/moria/data/DB/0064/'+target+'/wholebody_normalized_fat_1_'+target+'.amra')\n",
    "    #prototype = af.parse('/moria/data/DB/0064/'+target+'/prototypes/wholebody_deformed_normalized_prototype_water_1_'+target+'.amra')\n",
    "    \n",
    "    T9 = signal.get_poi('T9')\n",
    "    L2 = signal.get_poi('L2')\n",
    "    S1 = signal.get_poi('S1')\n",
    "    L5 = signal.get_poi('L5')\n",
    "    LF = signal.get_poi('LeftFemur')\n",
    "    RF = signal.get_poi('RightFemur')  \n",
    "    \n",
    "    poi = T9\n",
    "    \n",
    "    water_data = water_signal.data\n",
    "    fat_data = fat_signal.data\n",
    "    \n",
    "    signal_data = water_data + fat_data\n",
    "\n",
    "    \n",
    "    reduced_size = np.round(np.array(search_size)/np.array(signal.voxel_size())).astype(int)\n",
    "\n",
    "    gradient = np.zeros((signal_data.shape))\n",
    "    gradient = sobel(signal_data, 2)\n",
    "        \n",
    "    plt.figure(frameon =False)\n",
    "    currentAxis = plt.gca()\n",
    "    plt.imshow((signal_data[:,poi[1],:]), plt.get_cmap('gray'), origin='lower', interpolation='spline16')\n",
    "    plt.autoscale(False)\n",
    "    plt.tick_params(\n",
    "    axis='both',\n",
    "    which='both',\n",
    "    bottom='off', \n",
    "    top='off',\n",
    "    labelbottom='off',\n",
    "    right='off', \n",
    "    left='off', \n",
    "    labelleft='off')\n",
    "    \n",
    "    plt.plot(poi[2], poi[0], marker='+', color='w')\n",
    "   #plt.plot(LF[2], LF[0], marker='+', color='g')\n",
    "   #plt.plot(RF[2], RF[0], marker='+', color='g')\n",
    "    \n",
    "    currentAxis.add_patch(Rectangle((poi[2]-reduced_size[2],\\\n",
    "        poi[0]-reduced_size[0]+5), reduced_size[2]*2+1, reduced_size[0]*2+1, fill=None, edgecolor=\"blue\"))\n",
    "    #plt.savefig('T9_zx.png', bbox_inches='tight')\n",
    "    \n",
    "    plt.figure(frameon =False)\n",
    "    currentAxis = plt.gca()\n",
    "    plt.imshow((signal.data[poi[0],:,:]), plt.get_cmap('gray'), origin='lower', interpolation='spline16')\n",
    "    plt.autoscale(False)\n",
    "    plt.tick_params(\n",
    "    axis='both',\n",
    "    which='both',\n",
    "    bottom='off', \n",
    "    top='off',\n",
    "    labelbottom='off',\n",
    "    right='off', \n",
    "    left='off', \n",
    "    labelleft='off')\n",
    "    \n",
    "    plt.plot(poi[2], poi[1], marker='+', color='w')\n",
    "\n",
    "    \n",
    "    currentAxis.add_patch(Rectangle((poi[2]-reduced_size[2],\\\n",
    "        poi[1]-reduced_size[1]), reduced_size[2]*2+1, reduced_size[1]*2+1, fill=None, edgecolor=\"blue\"))\n",
    "    \n",
    "    plt.figure(frameon =False)\n",
    "    currentAxis = plt.gca()\n",
    "    plt.imshow((signal.data[:,:,poi[2]]), plt.get_cmap('gray'), origin='lower', interpolation='spline16')\n",
    "    plt.autoscale(False)\n",
    "    plt.tick_params(\n",
    "    axis='both',\n",
    "    which='both',\n",
    "    bottom='off', \n",
    "    top='off',\n",
    "    labelbottom='off',\n",
    "    right='off', \n",
    "    left='off', \n",
    "    labelleft='off')\n",
    "    \n",
    "    plt.plot(poi[1], poi[0], marker='+', color='w')\n",
    "\n",
    "    \n",
    "    currentAxis.add_patch(Rectangle((poi[1]-reduced_size[1],\\\n",
    "        poi[0]-reduced_size[0]), reduced_size[1]*2+1, reduced_size[0]*2+1, fill=None, edgecolor=\"blue\"))\n",
    "plt.show()"
   ]
  },
  {
   "cell_type": "code",
   "execution_count": 23,
   "metadata": {
    "collapsed": false
   },
   "outputs": [
    {
     "data": {
      "text/plain": [
       "(798, 191, 156)"
      ]
     },
     "execution_count": 23,
     "metadata": {},
     "output_type": "execute_result"
    }
   ],
   "source": [
    "T9"
   ]
  },
  {
   "cell_type": "code",
   "execution_count": 48,
   "metadata": {
    "collapsed": false
   },
   "outputs": [
    {
     "data": {
      "text/plain": [
       "int"
      ]
     },
     "execution_count": 48,
     "metadata": {},
     "output_type": "execute_result"
    }
   ],
   "source": [
    "type(poi[1])"
   ]
  },
  {
   "cell_type": "code",
   "execution_count": 47,
   "metadata": {
    "collapsed": false
   },
   "outputs": [
    {
     "ename": "TypeError",
     "evalue": "string indices must be integers",
     "output_type": "error",
     "traceback": [
      "\u001b[1;31m---------------------------------------------------------------------------\u001b[0m",
      "\u001b[1;31mTypeError\u001b[0m                                 Traceback (most recent call last)",
      "\u001b[1;32m<ipython-input-47-b6a44a5006db>\u001b[0m in \u001b[0;36m<module>\u001b[1;34m()\u001b[0m\n\u001b[1;32m----> 1\u001b[1;33m \u001b[0mtarget\u001b[0m\u001b[1;33m[\u001b[0m\u001b[1;33m:\u001b[0m\u001b[1;33m,\u001b[0m\u001b[0mpoi\u001b[0m\u001b[1;33m[\u001b[0m\u001b[1;36m1\u001b[0m\u001b[1;33m]\u001b[0m\u001b[1;33m,\u001b[0m\u001b[1;33m:\u001b[0m\u001b[1;33m]\u001b[0m\u001b[1;33m\u001b[0m\u001b[0m\n\u001b[0m",
      "\u001b[1;31mTypeError\u001b[0m: string indices must be integers"
     ]
    }
   ],
   "source": [
    "target[:,poi[1],:]"
   ]
  },
  {
   "cell_type": "code",
   "execution_count": null,
   "metadata": {
    "collapsed": true
   },
   "outputs": [],
   "source": []
  }
 ],
 "metadata": {
  "kernelspec": {
   "display_name": "Python 3",
   "language": "python",
   "name": "python3"
  },
  "language_info": {
   "codemirror_mode": {
    "name": "ipython",
    "version": 3
   },
   "file_extension": ".py",
   "mimetype": "text/x-python",
   "name": "python",
   "nbconvert_exporter": "python",
   "pygments_lexer": "ipython3",
   "version": "3.4.3+"
  }
 },
 "nbformat": 4,
 "nbformat_minor": 0
}
