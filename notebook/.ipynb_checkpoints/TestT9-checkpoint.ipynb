{
 "cells": [
  {
   "cell_type": "code",
   "execution_count": 8,
   "metadata": {
    "collapsed": false
   },
   "outputs": [
    {
     "name": "stdout",
     "output_type": "stream",
     "text": [
      "2\n"
     ]
    }
   ],
   "source": [
    "from os import listdir\n",
    "from os.path import isfile, join\n",
    "import os\n",
    "import numpy as np\n",
    "from amrafile import amrafile as af\n",
    "from amracommon.analysis.registration import normalized_cross_correlation\n",
    "\n",
    "testTargets = [\"0015A\",\"0015B\",\"0015C\",\"0015D\",\"0015E\",\"0015F\",\"00152\",\"00154\",\"00155\",\n",
    "                \"00156\",\"00157\",\"00158\",\"00159\",\"0014A\",\"0014B\",\"0014D\",\"0014F\",\n",
    "                \"00140\",\"00141\",\"00142\",\"00143\",\"00144\",\"00145\",\"00146\",\"00147\"]\n",
    "\n",
    "#testTargets = [\"00150\"]\n",
    "reduced_size = [7,10,10]\n",
    "\n",
    "error = []\n",
    "\n",
    "for target in testTargets:\n",
    "\n",
    "    signal = af.parse('/moria/data/DB/0030/'+target+'/wholebody_normalized_water_1_'+target+'.amra')\n",
    "    prototypePath = '/media/hannes/localDrive/DB/0030/'+target+'/prototypes'\n",
    "    \n",
    "    prototypes = [join(prototypePath,f) for f in listdir(prototypePath)  if isfile(join(prototypePath, f))]\n",
    "    \n",
    "    nbr_of_prototypes = len(prototypes)\n",
    "    \n",
    "    targetPoi = signal.get_poi('T9')\n",
    "    voxelSize = signal.voxel_size()\n",
    "    \n",
    "    prototypeSignals = []\n",
    "    for prototype in prototypes:\n",
    "        prototypeSignals.append(af.parse(prototype))\n",
    "        \n",
    "    prototypesT9 = []\n",
    "    for sig in prototypeSignals:\n",
    "        prototypesT9.append(sig.get_poi('T9'))\n",
    "    \n",
    "    prototypesLF = []\n",
    "    for sig in prototypeSignals:\n",
    "        prototypesLF.append(sig.get_poi('LeftFemur'))\n",
    "        \n",
    "    ncc = []\n",
    "    \n",
    "    target = signal.data\n",
    "\n",
    "    for ind, poi in enumerate(prototypesT9):\n",
    "\n",
    "        z_lower = poi[0]-reduced_size[0]\n",
    "        z_upper = poi[0]+reduced_size[0]+1\n",
    "        y_lower = poi[1]-reduced_size[1]\n",
    "        y_upper = poi[1]+reduced_size[1]+1\n",
    "        x_lower = poi[2]-reduced_size[2]\n",
    "        x_upper = poi[2]+reduced_size[2]+1\n",
    "\n",
    "        prototype = prototypeSignals[ind].data\n",
    "\n",
    "        ''' Extract reduced space from prototype and target'''\n",
    "        reduced_prototype = prototype[z_lower:z_upper, y_lower:y_upper, x_lower:x_upper]\n",
    "        reduced_target = signal.data[z_lower:z_upper, y_lower:y_upper, x_lower:x_upper]\n",
    "\n",
    "        ''' Calculate ncc and store in lists'''\n",
    "        ncc.append(normalized_cross_correlation(reduced_prototype, reduced_target))\n",
    "        #prototype_mean = np.tile(np.mean(reduced_prototype),reduced_prototype.shape)\n",
    "        #target_mean = np.tile(np.mean(reduced_target),reduced_target.shape)\n",
    "        #prototype_std = np.std(reduced_prototype)\n",
    "        #target_std = np.std(reduced_target)\n",
    "        #ncc.append(np.sum(((reduced_prototype-prototype_mean)/prototype_std-(reduced_target-target_mean)/target_std)**2))\n",
    "            \n",
    "    poi_index = ncc.index(max(ncc))\n",
    "    \n",
    "    ''' Repmat the target poi to compare distances'''\n",
    "    rep_target_poi = np.tile(targetPoi, (nbr_of_prototypes,1))\n",
    "    rep_target_size = np.tile(voxelSize, (nbr_of_prototypes,1))\n",
    "\n",
    "    ''' Diff between target poi ground truth and every deformed prototype poi in mm'''\n",
    "    poi_diff = list(prototypesT9 - rep_target_poi)\n",
    "\n",
    "    sorted_diff = np.array([(x,y) for (y,x) in sorted(zip(ncc,poi_diff))])\n",
    "\n",
    "    ncc_diff = poi_diff[poi_index][0]\n",
    "    error.append(ncc_diff)\n",
    "\n",
    "    ''' Differences sorted in ascending order'''\n",
    "    #sorted_diff = sorted(poi_diff)\n",
    "\n",
    "    ''' Best poi to choose from prototypes '''\n",
    "    #prototype_poi_index = poi_diff.index(min(poi_diff))\n",
    "print(ncc_diff)    "
   ]
  },
  {
   "cell_type": "code",
   "execution_count": 9,
   "metadata": {
    "collapsed": false
   },
   "outputs": [
    {
     "name": "stdout",
     "output_type": "stream",
     "text": [
      "[0.35698472452524804, 0.61374124778276373, 0.40686989499406701, 0.46898935498232736, 0.46391893902529535, 0.71505054981051974, 0.300626739012686, 0.3187406545541811, 0.4886721522220368, 0.64382045487128414, 0.54442745367635581, 0.4008286751549649, 0.53218699202390418, 0.41933594609881158, 0.43487763810176516, 0.52905814171680698, 0.52849560707198207, 0.2957598471746315, 0.32675041147299849, 0.31003072398902159, 0.4427840166736462, 0.2080843440603036, 0.19272326793705008, 0.47106140701155563, 0.40877983562640036, 0.37420223852303608, 0.44199902653417378, 0.4141345896060894, 0.37103845979289291, 2]\n"
     ]
    }
   ],
   "source": [
    "print(ncc)"
   ]
  },
  {
   "cell_type": "code",
   "execution_count": 38,
   "metadata": {
    "collapsed": false
   },
   "outputs": [
    {
     "data": {
      "text/plain": [
       "array([[[-0.80121461, -1.02971986, -0.30165876],\n",
       "        [-0.02286941,  0.56436372,  0.45042691],\n",
       "        [-1.06242112,  1.65607581, -1.0742426 ]],\n",
       "\n",
       "       [[-0.39344098, -0.74747236, -0.16789371],\n",
       "        [ 0.5201725 , -0.32907401,  0.65730587],\n",
       "        [-2.77480296, -0.59583172,  0.15624456]],\n",
       "\n",
       "       [[-0.06150035, -1.05511785, -1.41137002],\n",
       "        [-1.63368263,  0.16552949,  1.26611722],\n",
       "        [ 1.58998498, -0.55972422,  1.04409914]]])"
      ]
     },
     "execution_count": 38,
     "metadata": {},
     "output_type": "execute_result"
    }
   ],
   "source": [
    "a/np.std(a)"
   ]
  },
  {
   "cell_type": "code",
   "execution_count": null,
   "metadata": {
    "collapsed": true
   },
   "outputs": [],
   "source": []
  }
 ],
 "metadata": {
  "kernelspec": {
   "display_name": "Python 3",
   "language": "python",
   "name": "python3"
  },
  "language_info": {
   "codemirror_mode": {
    "name": "ipython",
    "version": 3
   },
   "file_extension": ".py",
   "mimetype": "text/x-python",
   "name": "python",
   "nbconvert_exporter": "python",
   "pygments_lexer": "ipython3",
   "version": "3.4.3+"
  }
 },
 "nbformat": 4,
 "nbformat_minor": 0
}
