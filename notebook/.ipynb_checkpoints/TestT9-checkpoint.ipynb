{
 "cells": [
  {
   "cell_type": "code",
   "execution_count": 1,
   "metadata": {
    "collapsed": false
   },
   "outputs": [
    {
     "name": "stdout",
     "output_type": "stream",
     "text": [
      "0\n",
      "1\n",
      "2\n",
      "3\n",
      "4\n",
      "5\n",
      "6\n",
      "7\n",
      "8\n",
      "9\n",
      "10\n",
      "11\n",
      "12\n",
      "13\n",
      "14\n",
      "15\n",
      "16\n",
      "17\n",
      "18\n",
      "19\n",
      "20\n",
      "21\n",
      "22\n",
      "23\n",
      "24\n",
      "25\n",
      "26\n",
      "27\n",
      "28\n",
      "29\n",
      "30\n"
     ]
    }
   ],
   "source": [
    "from os import listdir\n",
    "from os.path import isfile, join\n",
    "import os\n",
    "import numpy as np\n",
    "from amrafile import amrafile as af\n",
    "from amracommon.analysis.registration import normalized_cross_correlation\n",
    "from scipy.ndimage import gaussian_filter, sobel\n",
    "import matplotlib.pyplot as plt\n",
    "\n",
    "testTargets =  [\"0013B\",\"0013C\",\"0013D\",\"0013E\",\"0013F\",\"00130\",\"00131\",\n",
    "     \"00132\",\"00133\",\"00134\",\"00135\",\"00136\",\"00137\",\"0014A\",\"0014B\",\n",
    "    \"0014D\",\"0014F\",\"00140\",\"00141\",\"00142\",\"00143\",\"00144\",\"00145\",\n",
    "     \"00146\",\"00147\",\"0015A\",\"0015B\",\"0015C\",\"0015D\",\"0015E\",\"0015F\"]\n",
    "\n",
    "testTargets = [\"00040\",\"00041\",\"00042\",\"00043\",\"00044\",\"00045\",\"00046\",\"00047\",\n",
    "               \"00048\",\"00034\",\"00035\",\"00036\",\"00037\",\"00038\",\"00039\",\"0003A\",\"0003B\",\n",
    "               \"0003C\",\"0001A\",\"0001B\",\"0001C\",\"0001D\",\"0001E\",\"0001F\",\"00020\",\"00021\",\"00022\",\"00023\",\n",
    "                \"00024\",\"00025\",\"0003D\"]\n",
    "\n",
    "searchSize = [22, 22, 22]\n",
    "\n",
    "error = []\n",
    "\n",
    "testPoi = 'T9'\n",
    "\n",
    "sortedDist = np.zeros((len(testTargets),20))\n",
    "sortedNcc = sortedDist.copy()\n",
    "\n",
    "    \n",
    "for k, target in enumerate(testTargets):\n",
    "\n",
    "    signal = af.parse('/moria/data/DB/0064/'+target+'/wholebody_normalized_water_1_'+target+'.amra')\n",
    "    prototypePath = '/media/hannes/localDrive/DB/0064/'+target+'/prototypes'\n",
    "    \n",
    "    prototypes = [join(prototypePath,f) for f in listdir(prototypePath)  if isfile(join(prototypePath, f))]\n",
    "    \n",
    "    nbrOfPrototypes = len(prototypes)\n",
    "    \n",
    "    targetPoi = signal.get_poi(testPoi)\n",
    "    voxelSize = signal.voxel_size()\n",
    "    \n",
    "    reducedSize = np.round(searchSize/np.array(voxelSize)).astype(int)\n",
    "    \n",
    "    sobelPrototype = np.zeros((reducedSize*2+1))\n",
    "    sobelTarget = sobelPrototype.copy()\n",
    "        \n",
    "    prototypeSignals = [af.parse(prototype) for prototype in prototypes]\n",
    "    \n",
    "    prototypePois = [sig.get_poi(testPoi) for sig in prototypeSignals]\n",
    "        \n",
    "    ncc = []\n",
    "    \n",
    "    targetData = signal.data\n",
    "    \n",
    "    reducedPrototypes, reducedTargets = [], []\n",
    "\n",
    "    for ind, poi in enumerate(prototypePois):\n",
    "\n",
    "        z_lower = poi[0]-reducedSize[0]\n",
    "        z_upper = poi[0]+reducedSize[0]+1\n",
    "        y_lower = poi[1]-reducedSize[1]\n",
    "        y_upper = poi[1]+reducedSize[1]+1\n",
    "        x_lower = poi[2]-reducedSize[2]\n",
    "        x_upper = poi[2]+reducedSize[2]+1\n",
    "\n",
    "        prototype = prototypeSignals[ind].data\n",
    "\n",
    "        ''' Extract reduced space from prototype and target'''\n",
    "        reducedPrototype = prototype[z_lower:z_upper, y_lower:y_upper, x_lower:x_upper]\n",
    "        reducedTarget = targetData[z_lower:z_upper, y_lower:y_upper, x_lower:x_upper]\n",
    "        \n",
    "        #reducedPrototype = prototype[z_lower:z_upper,:,:]\n",
    "        #reducedTarget = targetData[z_lower:z_upper,:,:]\n",
    "        \n",
    "        reducedPrototype = gaussian_filter(reducedPrototype,0.5,mode='constant')\n",
    "        reducedTarget = gaussian_filter(reducedTarget,0.5,mode='constant')\n",
    "\n",
    "        ''' Calculate ncc and store in lists'''\n",
    "        ncc.append(normalized_cross_correlation(reducedPrototype, reducedTarget))\n",
    "        \n",
    "        reducedPrototypes.append(reducedPrototype)\n",
    "        reducedTargets.append(reducedTarget)\n",
    "            \n",
    "    poiIndex = ncc.index(max(ncc))\n",
    "    worstIndex = ncc.index(min(ncc))\n",
    "    \n",
    "    #plt.figure(frameon =False)\n",
    "    #currentAxis = plt.gca()\n",
    "    #plt.imshow((reducedPrototypes[poiIndex][30,:,:]),  plt.get_cmap('gray'), interpolation = 'nearest', origin='lower')\n",
    "    #plt.autoscale(False)\n",
    "    #plt.colorbar()\n",
    "\n",
    "    #plt.figure(frameon =False)\n",
    "    #currentAxis = plt.gca()\n",
    "    #plt.imshow((reducedTargets[poiIndex][30,:,:]),  plt.get_cmap('gray'), interpolation = 'nearest', origin='lower')\n",
    "    #plt.autoscale(False)\n",
    "    #plt.colorbar()\n",
    "    \n",
    "    #plt.figure(frameon =False)\n",
    "    #currentAxis = plt.gca()\n",
    "    #plt.imshow((reducedPrototypes[worstIndex][30,:,:]),  plt.get_cmap('gray'), interpolation = 'nearest', origin='lower')\n",
    "    #plt.autoscale(False)\n",
    "    #plt.colorbar()\n",
    "\n",
    "    #plt.figure(frameon =False)\n",
    "    #currentAxis = plt.gca()\n",
    "    #plt.imshow((reducedTargets[worstIndex][30,:,:]),  plt.get_cmap('gray'), interpolation = 'nearest', origin='lower')\n",
    "    #plt.autoscale(False)\n",
    "    #plt.colorbar()\n",
    "\n",
    "\n",
    "    \n",
    "    ''' Repmat the target poi to compare distances'''\n",
    "    repTargetPoi = np.tile(targetPoi, (nbrOfPrototypes,1))\n",
    "    repTargetSize = np.tile(voxelSize, (nbrOfPrototypes,1))\n",
    "\n",
    "    ''' Diff between target poi ground truth and every deformed prototype poi in mm'''\n",
    "    poiDiff = list(np.sqrt(np.sum(((prototypePois - repTargetPoi)*voxelSize)**2,1)))\n",
    "    \n",
    "    zDiff = list((abs(prototypePois - repTargetPoi))[:,0])\n",
    "    \n",
    "    diffList = np.array(list(zip(poiDiff,ncc)))\n",
    "    \n",
    "    bestIndex = zDiff.index(min(zDiff))\n",
    "    \n",
    "    #plt.figure(frameon =False)\n",
    "    #currentAxis = plt.gca()\n",
    "    #plt.imshow((reducedPrototypes[bestIndex][30,:,:]),  plt.get_cmap('gray'), interpolation = 'nearest', origin='lower')\n",
    "    #plt.autoscale(False)\n",
    "    #plt.colorbar()\n",
    "\n",
    "    #plt.figure(frameon =False)\n",
    "    #currentAxis = plt.gca()\n",
    "    #plt.imshow((reducedTargets[bestIndex][30,:,:]),  plt.get_cmap('gray'), interpolation = 'nearest', origin='lower')\n",
    "    #plt.autoscale(False)\n",
    "    #plt.colorbar()\n",
    "    \n",
    "\n",
    "\n",
    "    sortedList = np.array([(x,y) for (y,x) in sorted(zip(ncc,zDiff))])\n",
    "    \n",
    "    sortedDist[k,:] = sortedList[:,0]\n",
    "    sortedNcc[k,:] = sortedList[:,1]\n",
    "\n",
    "    nccDiff = poiDiff[poiIndex]\n",
    "    error.append(zDiff)\n",
    "    \n",
    "    #print(zDiff[poiIndex])\n",
    "    #print(zDiff[worstIndex])\n",
    "    #print(zDiff[bestIndex])\n",
    "\n",
    "    ''' Differences sorted in ascending order'''\n",
    "    #sorted_diff = sorted(poi_diff)\n",
    "\n",
    "    ''' Best poi to choose from prototypes '''\n",
    "    #prototype_poi_index = poi_diff.index(min(poi_diff))\n",
    "    plt.show()\n",
    "        \n",
    "    print(k)\n",
    "\n",
    "meanDist = np.mean(sortedDist,0)\n",
    "stdNcc = np.std(sortedNcc,0)\n",
    "meanNcc = np.mean(sortedNcc,0)\n",
    "stdDist = np.std(sortedDist,0)\n",
    "\n",
    "plt.figure(frameon =False)\n",
    "currentAxis = plt.gca()\n",
    "plt.plot(range(0,len(prototypes)),meanDist)\n",
    "plt.fill_between(range(0,len(prototypes)), meanDist-stdDist, meanDist+stdDist, alpha=0.3, edgecolor='Blue', facecolor='Blue', linewidth = 0)\n",
    "plt.autoscale(False)\n",
    "plt.show()\n"
   ]
  },
  {
   "cell_type": "code",
   "execution_count": 6,
   "metadata": {
    "collapsed": false
   },
   "outputs": [
    {
     "data": {
      "text/plain": [
       "array([ 6.19354839,  3.32258065,  3.64516129,  3.51612903,  5.25806452,\n",
       "        3.25806452,  4.87096774,  4.51612903,  4.09677419,  4.19354839,\n",
       "        4.61290323,  3.90322581,  4.80645161,  3.80645161,  4.19354839,\n",
       "        3.38709677,  4.25806452,  3.67741935,  3.70967742,  4.09677419])"
      ]
     },
     "execution_count": 6,
     "metadata": {},
     "output_type": "execute_result"
    }
   ],
   "source": [
    "meanDist"
   ]
  },
  {
   "cell_type": "code",
   "execution_count": 2,
   "metadata": {
    "collapsed": false
   },
   "outputs": [],
   "source": [
    "plt.figure(frameon =False)\n",
    "currentAxis = plt.gca()\n",
    "plt.plot(range(0,len(prototypes)),meanDist)\n",
    "plt.fill_between(range(0,len(prototypes)), meanDist-stdDist, meanDist+stdDist, alpha=0.3, edgecolor='Blue', facecolor='Blue', linewidth = 0)\n",
    "plt.autoscale(False)\n",
    "plt.ylim(0,10)\n",
    "#plt.savefig('poiInit_S1_Gauss_0.5.png', bbox_inches='tight')\n",
    "plt.show()"
   ]
  },
  {
   "cell_type": "code",
   "execution_count": 126,
   "metadata": {
    "collapsed": false
   },
   "outputs": [],
   "source": [
    "meanDist /= np.amax(meanDist)"
   ]
  },
  {
   "cell_type": "code",
   "execution_count": 140,
   "metadata": {
    "collapsed": false
   },
   "outputs": [
    {
     "data": {
      "text/plain": [
       "29"
      ]
     },
     "execution_count": 140,
     "metadata": {},
     "output_type": "execute_result"
    }
   ],
   "source": [
    "nbrOfPrototypes"
   ]
  },
  {
   "cell_type": "code",
   "execution_count": 4,
   "metadata": {
    "collapsed": false
   },
   "outputs": [
    {
     "data": {
      "text/plain": [
       "[1, 5, 4, 0, 1, 5, 0, 8, 3, 5, 1, 2, 0, 2, 6, 1, 1, 1, 3, 1]"
      ]
     },
     "execution_count": 4,
     "metadata": {},
     "output_type": "execute_result"
    }
   ],
   "source": [
    "zDiff"
   ]
  },
  {
   "cell_type": "code",
   "execution_count": null,
   "metadata": {
    "collapsed": true
   },
   "outputs": [],
   "source": []
  }
 ],
 "metadata": {
  "kernelspec": {
   "display_name": "Python 3",
   "language": "python",
   "name": "python3"
  },
  "language_info": {
   "codemirror_mode": {
    "name": "ipython",
    "version": 3
   },
   "file_extension": ".py",
   "mimetype": "text/x-python",
   "name": "python",
   "nbconvert_exporter": "python",
   "pygments_lexer": "ipython3",
   "version": "3.4.3+"
  }
 },
 "nbformat": 4,
 "nbformat_minor": 0
}
