{
 "cells": [
  {
   "cell_type": "code",
   "execution_count": 14,
   "metadata": {
    "collapsed": false
   },
   "outputs": [],
   "source": [
    "from os import listdir\n",
    "from os.path import isfile, join\n",
    "import os\n",
    "import numpy as np\n",
    "from amrafile import amrafile as af\n",
    "from amracommon.analysis.registration import normalized_cross_correlation\n",
    "from scipy.ndimage import gaussian_filter, sobel\n",
    "import matplotlib.pyplot as plt\n",
    "\n",
    "testTargets = [\"00010\",\"00011\",\"00012\",\"00013\",\"00014\",\"00015\",\"00016\",\"00018\",\"00019\",\n",
    "                \"0000B\",\"0000C\",\"0000D\",\"0000E\",\"0003A\",\"0003B\",\"0003C\",\"0001A\",\"0001B\",\n",
    "                \"00025\",\"0003D\",\"0003E\",\"0003F\",\"00033\",\"00034\",\"00035\",\"00036\",\"00037\",\n",
    "                \"00038\",\"00039\",\"00040\",\"00041\",\"00042\",\"00043\",\"00044\",\"00045\",\"00046\",\n",
    "                \"00047\",\"00048\",\"00049\",\"0004A\",\"0004B\",\"0004C\",\"0004D\",\"0004E\",\"0004F\",\n",
    "                \"00050\",\"00051\"]\n",
    "\n",
    "diffZ, diffY, diffX = np.zeros((2,len(testTargets))), np.zeros((2,len(testTargets))), np.zeros((2,len(testTargets)))\n",
    "\n",
    "for k, target in enumerate(testTargets):\n",
    "\n",
    "    signal = af.parse('/moria/data/DB/0064/'+target+'/wholebody_normalized_water_1_'+target+'.amra')\n",
    "    \n",
    "    voxelSize = signal.voxel_size()\n",
    "    \n",
    "    RF = np.array(signal.get_poi('RightFemur'))*voxelSize\n",
    "    S1 = np.array(signal.get_poi('S1'))*voxelSize\n",
    "    #L5 = np.array(signal.get_poi('L5'))*voxelSize\n",
    "    #L4 = np.array(signal.get_poi('L4'))*voxelSize\n",
    "    #L3 = np.array(signal.get_poi('L3'))*voxelSize\n",
    "    #L2 = np.array(signal.get_poi('L2'))*voxelSize\n",
    "    #L1 = np.array(signal.get_poi('L1'))*voxelSize\n",
    "    #T12 = np.array(signal.get_poi('T12'))*voxelSize\n",
    "    #T11 = np.array(signal.get_poi('T11'))*voxelSize\n",
    "    #T10 = np.array(signal.get_poi('T10'))*voxelSize\n",
    "    #T9 = np.array(signal.get_poi('T9'))*voxelSize\n",
    "    \n",
    "    #poiList = np.array([LF,S1,L5,L4,L3,L2,L1,T12,T11,T10,T9])\n",
    "    poiList = np.array([RF,S1])\n",
    "    \n",
    "    shiftList = np.roll(poiList,-1, axis=0)\n",
    "    \n",
    "    diff = poiList - shiftList\n",
    "    \n",
    "    diffZ[:,k] = diff[:,0]\n",
    "    diffY[:,k] = diff[:,1]\n",
    "    diffX[:,k] = diff[:,2]\n",
    "\n",
    "meanList = list(zip(np.mean(diffZ,1), np.mean(diffY,1), np.mean(diffX,1)))\n",
    "stdList = list(zip(np.std(diffZ,1), np.std(diffY,1),  np.std(diffX,1)))\n"
   ]
  },
  {
   "cell_type": "code",
   "execution_count": 15,
   "metadata": {
    "collapsed": false
   },
   "outputs": [
    {
     "data": {
      "text/plain": [
       "[(-75.480687127056939, -36.933857298911889, -89.211292058863535),\n",
       " (75.480687127056939, 36.933857298911889, 89.211292058863535)]"
      ]
     },
     "execution_count": 15,
     "metadata": {},
     "output_type": "execute_result"
    }
   ],
   "source": [
    "meanList"
   ]
  },
  {
   "cell_type": "code",
   "execution_count": null,
   "metadata": {
    "collapsed": true
   },
   "outputs": [],
   "source": []
  },
  {
   "cell_type": "code",
   "execution_count": 56,
   "metadata": {
    "collapsed": false
   },
   "outputs": [
    {
     "data": {
      "text/plain": [
       "[(7.9951211792962278, 9.0559172426420051, 5.1655986029923122),\n",
       " (4.9813529092421103, 5.0376726160220588, 2.5377478596237877),\n",
       " (2.7881078545832323, 4.1596186702135958, 2.6655734738253445),\n",
       " (2.3816767236319194, 3.8590082080463843, 2.2991701861924656),\n",
       " (2.7127559588853991, 2.6704307725087526, 2.5086490150553247),\n",
       " (2.1449822614303717, 2.2518108896468165, 2.1486495031368023),\n",
       " (3.4598809163381832, 3.0513714572490329, 1.8380497064521508),\n",
       " (2.6441732157579692, 2.4613374777841641, 1.4611047073405119),\n",
       " (2.0603591707117248, 2.2930031439292606, 1.4239883136486764),\n",
       " (2.7730728559214972, 2.5200168433051919, 1.6335269704859403),\n",
       " (16.241536169731667, 9.233075987563085, 10.266163370305865)]"
      ]
     },
     "execution_count": 56,
     "metadata": {},
     "output_type": "execute_result"
    }
   ],
   "source": [
    "stdList"
   ]
  },
  {
   "cell_type": "code",
   "execution_count": 45,
   "metadata": {
    "collapsed": false
   },
   "outputs": [
    {
     "data": {
      "text/plain": [
       "[(-36.836035662622905, 24.527422357112805, -0.55779665581723481),\n",
       " (-35.922162073098939, 2.4083386583531157, -0.039179624395167575),\n",
       " (-36.326124999316825, -3.8100721125907087, 0.96694531339280154),\n",
       " (-34.795591430906633, -7.8516734052211676, -0.081448935447855197),\n",
       " (-32.988777130392975, -8.0378436281325971, 0.29825228833137674),\n",
       " (-31.755978362047777, -7.1924788647509637, 0.03657021421067258),\n",
       " (-29.204915661108412, -4.6371538892705386, 0.28091702055423817),\n",
       " (-27.036933512500138, -3.2950207426192915, -0.085486320739096788),\n",
       " (-24.635255042947769, -2.6322647916509752, -0.29279118903139806),\n",
       " (289.50177387494227, 10.520746418770324, -0.52598211105833659)]"
      ]
     },
     "execution_count": 45,
     "metadata": {},
     "output_type": "execute_result"
    }
   ],
   "source": [
    "meanList"
   ]
  },
  {
   "cell_type": "code",
   "execution_count": null,
   "metadata": {
    "collapsed": true
   },
   "outputs": [],
   "source": []
  },
  {
   "cell_type": "code",
   "execution_count": 47,
   "metadata": {
    "collapsed": false
   },
   "outputs": [
    {
     "data": {
      "text/plain": [
       "[(4.9813529092421103, 5.0376726160220588, 2.5377478596237877),\n",
       " (2.7881078545832323, 4.1596186702135958, 2.6655734738253445),\n",
       " (2.3816767236319194, 3.8590082080463843, 2.2991701861924656),\n",
       " (2.7127559588853991, 2.6704307725087526, 2.5086490150553247),\n",
       " (2.1449822614303717, 2.2518108896468165, 2.1486495031368023),\n",
       " (3.4598809163381832, 3.0513714572490329, 1.8380497064521508),\n",
       " (2.6441732157579692, 2.4613374777841641, 1.4611047073405119),\n",
       " (2.0603591707117248, 2.2930031439292606, 1.4239883136486764),\n",
       " (2.7730728559214972, 2.5200168433051919, 1.6335269704859403),\n",
       " (15.585853285558665, 9.3023152298626908, 8.2941252563127552)]"
      ]
     },
     "execution_count": 47,
     "metadata": {},
     "output_type": "execute_result"
    }
   ],
   "source": [
    "stdList"
   ]
  },
  {
   "cell_type": "code",
   "execution_count": 12,
   "metadata": {
    "collapsed": false,
    "scrolled": true
   },
   "outputs": [
    {
     "data": {
      "text/plain": [
       "array([[ 263.39286518,  258.92857933,  569.22764228],\n",
       "       [ 243.30357885,  261.16072226,  605.17886179],\n",
       "       [ 238.839293  ,  261.16072226,  641.1300813 ],\n",
       "       [ 241.07143593,  256.69643641,  677.08130081],\n",
       "       [ 243.30357885,  254.46429348,  710.03658537],\n",
       "       [ 250.00000763,  252.23215055,  742.99186992],\n",
       "       [ 254.46429348,  247.7678647 ,  775.94715447],\n",
       "       [ 258.92857933,  247.7678647 ,  805.90650407],\n",
       "       [ 263.39286518,  250.00000763,  829.87398374],\n",
       "       [ 267.85715103,  247.7678647 ,  533.27642276]])"
      ]
     },
     "execution_count": 12,
     "metadata": {},
     "output_type": "execute_result"
    }
   ],
   "source": [
    "shiftList"
   ]
  },
  {
   "cell_type": "code",
   "execution_count": 2,
   "metadata": {
    "collapsed": true
   },
   "outputs": [],
   "source": [
    "import numpy as np"
   ]
  },
  {
   "cell_type": "code",
   "execution_count": 4,
   "metadata": {
    "collapsed": false
   },
   "outputs": [],
   "source": [
    "a = np.load('/media/hannes/localDrive/trained/scalar/T9/test5/error.npy')"
   ]
  },
  {
   "cell_type": "code",
   "execution_count": 5,
   "metadata": {
    "collapsed": true
   },
   "outputs": [],
   "source": [
    "b = np.load('/media/hannes/localDrive/trained/scalar/T9/test5/inliers.npy')"
   ]
  },
  {
   "cell_type": "code",
   "execution_count": 178,
   "metadata": {
    "collapsed": false
   },
   "outputs": [],
   "source": [
    "c = list(a[:,1])"
   ]
  },
  {
   "cell_type": "code",
   "execution_count": 179,
   "metadata": {
    "collapsed": false
   },
   "outputs": [
    {
     "data": {
      "text/plain": [
       "8.6724446795950048"
      ]
     },
     "execution_count": 179,
     "metadata": {},
     "output_type": "execute_result"
    }
   ],
   "source": [
    "np.mean(b)"
   ]
  },
  {
   "cell_type": "code",
   "execution_count": 180,
   "metadata": {
    "collapsed": false
   },
   "outputs": [
    {
     "data": {
      "text/plain": [
       "7.0234415676303401"
      ]
     },
     "execution_count": 180,
     "metadata": {},
     "output_type": "execute_result"
    }
   ],
   "source": [
    "np.median(b)"
   ]
  },
  {
   "cell_type": "code",
   "execution_count": 181,
   "metadata": {
    "collapsed": false
   },
   "outputs": [
    {
     "data": {
      "text/plain": [
       "137.33716416607999"
      ]
     },
     "execution_count": 181,
     "metadata": {},
     "output_type": "execute_result"
    }
   ],
   "source": [
    "np.max(b)"
   ]
  },
  {
   "cell_type": "code",
   "execution_count": 182,
   "metadata": {
    "collapsed": false
   },
   "outputs": [],
   "source": [
    "poi_index = b.index(max(b))    "
   ]
  },
  {
   "cell_type": "code",
   "execution_count": 183,
   "metadata": {
    "collapsed": false
   },
   "outputs": [
    {
     "data": {
      "text/plain": [
       "137.33716416607999"
      ]
     },
     "execution_count": 183,
     "metadata": {},
     "output_type": "execute_result"
    }
   ],
   "source": [
    "b.pop(poi_index)"
   ]
  },
  {
   "cell_type": "code",
   "execution_count": 184,
   "metadata": {
    "collapsed": false,
    "scrolled": true
   },
   "outputs": [
    {
     "data": {
      "text/plain": [
       "7.5727462224455611"
      ]
     },
     "execution_count": 184,
     "metadata": {},
     "output_type": "execute_result"
    }
   ],
   "source": [
    "np.mean(b)"
   ]
  },
  {
   "cell_type": "code",
   "execution_count": 185,
   "metadata": {
    "collapsed": false,
    "scrolled": true
   },
   "outputs": [
    {
     "data": {
      "text/plain": [
       "3.8485702604937182"
      ]
     },
     "execution_count": 185,
     "metadata": {},
     "output_type": "execute_result"
    }
   ],
   "source": [
    "np.std(b)"
   ]
  },
  {
   "cell_type": "code",
   "execution_count": 186,
   "metadata": {
    "collapsed": false
   },
   "outputs": [
    {
     "data": {
      "text/plain": [
       "22.127591557600471"
      ]
     },
     "execution_count": 186,
     "metadata": {},
     "output_type": "execute_result"
    }
   ],
   "source": [
    "np.amax(b)"
   ]
  },
  {
   "cell_type": "code",
   "execution_count": 187,
   "metadata": {
    "collapsed": false
   },
   "outputs": [
    {
     "data": {
      "text/plain": [
       "6.988227428400335"
      ]
     },
     "execution_count": 187,
     "metadata": {},
     "output_type": "execute_result"
    }
   ],
   "source": [
    "np.median(b)"
   ]
  },
  {
   "cell_type": "code",
   "execution_count": 111,
   "metadata": {
    "collapsed": false
   },
   "outputs": [],
   "source": [
    "c = np.load('/media/hannes/localDrive/trained/scalar/LeftFemur/test28/error.npy')"
   ]
  },
  {
   "cell_type": "code",
   "execution_count": 112,
   "metadata": {
    "collapsed": false
   },
   "outputs": [],
   "source": [
    "c = list(c[:,1])"
   ]
  },
  {
   "cell_type": "code",
   "execution_count": 113,
   "metadata": {
    "collapsed": true
   },
   "outputs": [],
   "source": [
    "poi_index = c.index(max(c)) "
   ]
  },
  {
   "cell_type": "code",
   "execution_count": 114,
   "metadata": {
    "collapsed": false
   },
   "outputs": [
    {
     "data": {
      "text/plain": [
       "137.33716416607999"
      ]
     },
     "execution_count": 114,
     "metadata": {},
     "output_type": "execute_result"
    }
   ],
   "source": [
    "c.pop(poi_index)"
   ]
  },
  {
   "cell_type": "code",
   "execution_count": 115,
   "metadata": {
    "collapsed": false
   },
   "outputs": [
    {
     "data": {
      "text/plain": [
       "7.667547561469644"
      ]
     },
     "execution_count": 115,
     "metadata": {},
     "output_type": "execute_result"
    }
   ],
   "source": [
    "np.mean(c)"
   ]
  },
  {
   "cell_type": "code",
   "execution_count": 116,
   "metadata": {
    "collapsed": false
   },
   "outputs": [
    {
     "data": {
      "text/plain": [
       "3.8379323749000758"
      ]
     },
     "execution_count": 116,
     "metadata": {},
     "output_type": "execute_result"
    }
   ],
   "source": [
    "np.std(c)"
   ]
  },
  {
   "cell_type": "code",
   "execution_count": 109,
   "metadata": {
    "collapsed": false
   },
   "outputs": [
    {
     "data": {
      "text/plain": [
       "14.4317049523825"
      ]
     },
     "execution_count": 109,
     "metadata": {},
     "output_type": "execute_result"
    }
   ],
   "source": [
    "np.amax(c)"
   ]
  },
  {
   "cell_type": "code",
   "execution_count": 45,
   "metadata": {
    "collapsed": true
   },
   "outputs": [],
   "source": [
    "sad = np.load('/home/hannes/code/git/T9/reg.npy')"
   ]
  },
  {
   "cell_type": "code",
   "execution_count": 46,
   "metadata": {
    "collapsed": false
   },
   "outputs": [
    {
     "data": {
      "text/plain": [
       "array([[  4.46428585,   3.1567268 ,   2.23214293,   3.1567268 ,\n",
       "          4.46428585,   6.69642878,   3.1567268 ,   6.69642878,\n",
       "          4.35207426,   2.23214293,   4.46428585],\n",
       "       [  7.47210502,   3.1567268 ,   4.46428585,   5.37638117,\n",
       "          4.46428585,   4.99122332,   3.73605251,   3.73605251,\n",
       "          7.47210502,  12.18985164,  21.90126447],\n",
       "       [  5.37638117,   5.8213346 ,   8.58764419,   7.05865571,\n",
       "          9.20336105,   4.46428585,   4.99122332,   4.46428585,\n",
       "          7.05865571,   8.04810577,  18.02557285],\n",
       "       [  2.99593496,   4.35207426,   3.73605251,   4.46428585,\n",
       "          4.35207426,   8.04810577,   2.23214293,   5.8213346 ,\n",
       "          5.8213346 ,   8.04810577,   7.66813189],\n",
       "       [  5.37638117,  19.99145335,  10.98200163,   5.37638117,\n",
       "          4.99122332,   0.        ,   2.23214293,   9.25889441,\n",
       "          3.73605251,   3.73605251,   4.35207426],\n",
       "       [  4.35207426,   3.1567268 ,   4.35207426,   6.69642878,\n",
       "          3.1567268 ,   8.9285717 ,   6.69642878,   3.1567268 ,\n",
       "          4.46428585,   6.69642878,   7.05865571],\n",
       "       [  6.39413538,   6.69642878,   8.98580345,   0.        ,\n",
       "          2.23214293,   3.73605251,   3.1567268 ,   4.35207426,\n",
       "          3.73605251,   5.37638117,   4.35207426],\n",
       "       [  4.35207426,  11.38174033,   9.20336105,   8.04810577,\n",
       "          4.46428585,  13.39285755,   5.8213346 ,   3.1567268 ,\n",
       "          4.46428585,   3.1567268 ,   5.8213346 ],\n",
       "       [  7.66813189,   7.79838544,   4.35207426,   3.1567268 ,\n",
       "          3.1567268 ,   3.73605251,   4.99122332,   3.1567268 ,\n",
       "          5.8213346 ,   2.23214293,   2.23214293]])"
      ]
     },
     "execution_count": 46,
     "metadata": {},
     "output_type": "execute_result"
    }
   ],
   "source": [
    "sad"
   ]
  },
  {
   "cell_type": "code",
   "execution_count": 48,
   "metadata": {
    "collapsed": false
   },
   "outputs": [],
   "source": [
    "sad = np.delete(sad, (1), axis=0)"
   ]
  },
  {
   "cell_type": "code",
   "execution_count": 51,
   "metadata": {
    "collapsed": false
   },
   "outputs": [
    {
     "data": {
      "text/plain": [
       "array([ 5.0861454 ,  8.07621939,  6.26335858,  4.41409359,  3.83106654,\n",
       "        6.36258126,  4.04096088,  5.08555892,  4.62791717,  4.49685441,\n",
       "        5.1355285 ])"
      ]
     },
     "execution_count": 51,
     "metadata": {},
     "output_type": "execute_result"
    }
   ],
   "source": [
    "np.mean(sad,0)"
   ]
  },
  {
   "cell_type": "code",
   "execution_count": 52,
   "metadata": {
    "collapsed": false
   },
   "outputs": [
    {
     "data": {
      "text/plain": [
       "array([ 1.42904257,  5.56971857,  3.12283992,  2.4491917 ,  0.91693364,\n",
       "        4.02210474,  1.65752068,  2.14649803,  0.80790516,  2.09951282,\n",
       "        1.71924584])"
      ]
     },
     "execution_count": 52,
     "metadata": {},
     "output_type": "execute_result"
    }
   ],
   "source": [
    "np.std(sad,0)"
   ]
  },
  {
   "cell_type": "code",
   "execution_count": 20,
   "metadata": {
    "collapsed": false
   },
   "outputs": [
    {
     "data": {
      "text/plain": [
       "array([  4.46428585,  21.90126447,  18.02557285,   7.66813189,\n",
       "         4.35207426,   7.05865571,   4.35207426,   5.8213346 ,   2.23214293])"
      ]
     },
     "execution_count": 20,
     "metadata": {},
     "output_type": "execute_result"
    }
   ],
   "source": [
    "sad[:,0]"
   ]
  },
  {
   "cell_type": "code",
   "execution_count": 23,
   "metadata": {
    "collapsed": false
   },
   "outputs": [],
   "source": [
    "dtd = list(sad[:,0])"
   ]
  },
  {
   "cell_type": "code",
   "execution_count": 25,
   "metadata": {
    "collapsed": false
   },
   "outputs": [
    {
     "data": {
      "text/plain": [
       "18.025572851815234"
      ]
     },
     "execution_count": 25,
     "metadata": {},
     "output_type": "execute_result"
    }
   ],
   "source": [
    "dtd.pop(2)"
   ]
  },
  {
   "cell_type": "code",
   "execution_count": 27,
   "metadata": {
    "collapsed": false
   },
   "outputs": [
    {
     "data": {
      "text/plain": [
       "21.90126446579297"
      ]
     },
     "execution_count": 27,
     "metadata": {},
     "output_type": "execute_result"
    }
   ],
   "source": [
    "dtd.pop(1)"
   ]
  },
  {
   "cell_type": "code",
   "execution_count": 29,
   "metadata": {
    "collapsed": false
   },
   "outputs": [
    {
     "data": {
      "text/plain": [
       "5.1355284992584656"
      ]
     },
     "execution_count": 29,
     "metadata": {},
     "output_type": "execute_result"
    }
   ],
   "source": [
    "np.mean(dtd)"
   ]
  },
  {
   "cell_type": "code",
   "execution_count": 30,
   "metadata": {
    "collapsed": false
   },
   "outputs": [
    {
     "data": {
      "text/plain": [
       "1.7192458383102343"
      ]
     },
     "execution_count": 30,
     "metadata": {},
     "output_type": "execute_result"
    }
   ],
   "source": [
    "np.std(dtd)"
   ]
  },
  {
   "cell_type": "code",
   "execution_count": null,
   "metadata": {
    "collapsed": true
   },
   "outputs": [],
   "source": []
  }
 ],
 "metadata": {
  "kernelspec": {
   "display_name": "Python 3",
   "language": "python",
   "name": "python3"
  },
  "language_info": {
   "codemirror_mode": {
    "name": "ipython",
    "version": 3
   },
   "file_extension": ".py",
   "mimetype": "text/x-python",
   "name": "python",
   "nbconvert_exporter": "python",
   "pygments_lexer": "ipython3",
   "version": "3.4.3+"
  }
 },
 "nbformat": 4,
 "nbformat_minor": 0
}
