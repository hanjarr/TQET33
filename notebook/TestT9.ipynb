{
 "cells": [
  {
   "cell_type": "code",
   "execution_count": 2,
   "metadata": {
    "collapsed": false
   },
   "outputs": [
    {
     "name": "stdout",
     "output_type": "stream",
     "text": [
      "[ 2  3 -3]\n",
      "[3 0 0]\n",
      "[ 5  1 -2]\n"
     ]
    },
    {
     "ename": "KeyboardInterrupt",
     "evalue": "",
     "output_type": "error",
     "traceback": [
      "\u001b[1;31m---------------------------------------------------------------------------\u001b[0m",
      "\u001b[1;31mKeyboardInterrupt\u001b[0m                         Traceback (most recent call last)",
      "\u001b[1;32m<ipython-input-2-2b8fb8c1d348>\u001b[0m in \u001b[0;36m<module>\u001b[1;34m()\u001b[0m\n\u001b[0;32m     29\u001b[0m     \u001b[0mprototypeSignals\u001b[0m \u001b[1;33m=\u001b[0m \u001b[1;33m[\u001b[0m\u001b[1;33m]\u001b[0m\u001b[1;33m\u001b[0m\u001b[0m\n\u001b[0;32m     30\u001b[0m     \u001b[1;32mfor\u001b[0m \u001b[0mprototype\u001b[0m \u001b[1;32min\u001b[0m \u001b[0mprototypes\u001b[0m\u001b[1;33m:\u001b[0m\u001b[1;33m\u001b[0m\u001b[0m\n\u001b[1;32m---> 31\u001b[1;33m         \u001b[0mprototypeSignals\u001b[0m\u001b[1;33m.\u001b[0m\u001b[0mappend\u001b[0m\u001b[1;33m(\u001b[0m\u001b[0maf\u001b[0m\u001b[1;33m.\u001b[0m\u001b[0mparse\u001b[0m\u001b[1;33m(\u001b[0m\u001b[0mprototype\u001b[0m\u001b[1;33m)\u001b[0m\u001b[1;33m)\u001b[0m\u001b[1;33m\u001b[0m\u001b[0m\n\u001b[0m\u001b[0;32m     32\u001b[0m \u001b[1;33m\u001b[0m\u001b[0m\n\u001b[0;32m     33\u001b[0m     \u001b[0mprototypesT9\u001b[0m \u001b[1;33m=\u001b[0m \u001b[1;33m[\u001b[0m\u001b[1;33m]\u001b[0m\u001b[1;33m\u001b[0m\u001b[0m\n",
      "\u001b[1;32m/home/hannes/code/amra-file/amrafile/amrafile.py\u001b[0m in \u001b[0;36mparse\u001b[1;34m(path, mode, quick, accept_parsed_file)\u001b[0m\n\u001b[0;32m     34\u001b[0m         \u001b[0mparsed_file\u001b[0m \u001b[1;33m=\u001b[0m \u001b[0maf20\u001b[0m\u001b[1;33m.\u001b[0m\u001b[0mAmraFile\u001b[0m\u001b[1;33m(\u001b[0m\u001b[0mfile_path\u001b[0m\u001b[1;33m=\u001b[0m\u001b[0mpath\u001b[0m\u001b[1;33m,\u001b[0m \u001b[0mmode\u001b[0m\u001b[1;33m=\u001b[0m\u001b[0mmode\u001b[0m\u001b[1;33m,\u001b[0m \u001b[0m_no_read\u001b[0m\u001b[1;33m=\u001b[0m\u001b[0mquick\u001b[0m\u001b[1;33m)\u001b[0m\u001b[1;33m\u001b[0m\u001b[0m\n\u001b[0;32m     35\u001b[0m     \u001b[1;32melif\u001b[0m \u001b[0mversion\u001b[0m \u001b[1;33m==\u001b[0m \u001b[1;34m\"2.0\"\u001b[0m\u001b[1;33m:\u001b[0m\u001b[1;33m\u001b[0m\u001b[0m\n\u001b[1;32m---> 36\u001b[1;33m         \u001b[0mparsed_file\u001b[0m \u001b[1;33m=\u001b[0m \u001b[0maf20\u001b[0m\u001b[1;33m.\u001b[0m\u001b[0mAmraFile\u001b[0m\u001b[1;33m(\u001b[0m\u001b[0mfile_path\u001b[0m\u001b[1;33m=\u001b[0m\u001b[0mpath\u001b[0m\u001b[1;33m,\u001b[0m \u001b[0mmode\u001b[0m\u001b[1;33m=\u001b[0m\u001b[0mmode\u001b[0m\u001b[1;33m,\u001b[0m \u001b[0m_no_read\u001b[0m\u001b[1;33m=\u001b[0m\u001b[0mquick\u001b[0m\u001b[1;33m)\u001b[0m\u001b[1;33m\u001b[0m\u001b[0m\n\u001b[0m\u001b[0;32m     37\u001b[0m     \u001b[1;32melse\u001b[0m\u001b[1;33m:\u001b[0m\u001b[1;33m\u001b[0m\u001b[0m\n\u001b[0;32m     38\u001b[0m         raise err.ParseError(\"Invalid file: \\\"{}\\\". An error occurred while \"\n",
      "\u001b[1;32m/home/hannes/code/amra-file/amrafile/amrafile_2_0.py\u001b[0m in \u001b[0;36m__init__\u001b[1;34m(self, mode, **kwargs)\u001b[0m\n\u001b[0;32m    236\u001b[0m             \u001b[0mlogging\u001b[0m\u001b[1;33m.\u001b[0m\u001b[0mdebug\u001b[0m\u001b[1;33m(\u001b[0m\u001b[1;34m\"AMRA file: %s\"\u001b[0m \u001b[1;33m%\u001b[0m \u001b[0mself\u001b[0m\u001b[1;33m.\u001b[0m\u001b[0mfile_path\u001b[0m\u001b[1;33m)\u001b[0m\u001b[1;33m\u001b[0m\u001b[0m\n\u001b[0;32m    237\u001b[0m             \u001b[1;32mif\u001b[0m \u001b[0mh5py\u001b[0m\u001b[1;33m.\u001b[0m\u001b[0mis_hdf5\u001b[0m\u001b[1;33m(\u001b[0m\u001b[0mself\u001b[0m\u001b[1;33m.\u001b[0m\u001b[0mfile_path\u001b[0m\u001b[1;33m)\u001b[0m\u001b[1;33m:\u001b[0m\u001b[1;33m\u001b[0m\u001b[0m\n\u001b[1;32m--> 238\u001b[1;33m                 \u001b[0mself\u001b[0m\u001b[1;33m.\u001b[0m\u001b[0m_read_hdf5_file\u001b[0m\u001b[1;33m(\u001b[0m\u001b[1;33m)\u001b[0m\u001b[1;33m\u001b[0m\u001b[0m\n\u001b[0m\u001b[0;32m    239\u001b[0m             \u001b[1;32melse\u001b[0m\u001b[1;33m:\u001b[0m\u001b[1;33m\u001b[0m\u001b[0m\n\u001b[0;32m    240\u001b[0m                 \u001b[0mself\u001b[0m\u001b[1;33m.\u001b[0m\u001b[0m_read_legacy_amrafile\u001b[0m\u001b[1;33m(\u001b[0m\u001b[1;33m)\u001b[0m\u001b[1;33m\u001b[0m\u001b[0m\n",
      "\u001b[1;32m/home/hannes/code/amra-file/amrafile/amrafile_2_0.py\u001b[0m in \u001b[0;36m_read_hdf5_file\u001b[1;34m(self, quick)\u001b[0m\n\u001b[0;32m    643\u001b[0m         \u001b[1;31m# Data part.\u001b[0m\u001b[1;33m\u001b[0m\u001b[1;33m\u001b[0m\u001b[0m\n\u001b[0;32m    644\u001b[0m         \u001b[1;32mif\u001b[0m \u001b[1;32mnot\u001b[0m \u001b[0mself\u001b[0m\u001b[1;33m.\u001b[0m\u001b[0m_no_read\u001b[0m\u001b[1;33m:\u001b[0m\u001b[1;33m\u001b[0m\u001b[0m\n\u001b[1;32m--> 645\u001b[1;33m             \u001b[0mself\u001b[0m\u001b[1;33m.\u001b[0m\u001b[0mdata\u001b[0m \u001b[1;33m=\u001b[0m \u001b[0mdataset\u001b[0m\u001b[1;33m.\u001b[0m\u001b[0mvalue\u001b[0m\u001b[1;33m\u001b[0m\u001b[0m\n\u001b[0m\u001b[0;32m    646\u001b[0m         \u001b[1;32melse\u001b[0m\u001b[1;33m:\u001b[0m\u001b[1;33m\u001b[0m\u001b[0m\n\u001b[0;32m    647\u001b[0m             \u001b[0mself\u001b[0m\u001b[1;33m.\u001b[0m\u001b[0mdata\u001b[0m \u001b[1;33m=\u001b[0m \u001b[0mself\u001b[0m\u001b[1;33m.\u001b[0m\u001b[0mempty_data\u001b[0m\u001b[1;33m(\u001b[0m\u001b[1;33m)\u001b[0m\u001b[1;33m\u001b[0m\u001b[0m\n",
      "\u001b[1;32mh5py/_objects.pyx\u001b[0m in \u001b[0;36mh5py._objects.with_phil.wrapper (/tmp/pip-build-dsobzz9b/h5py/h5py/_objects.c:2472)\u001b[1;34m()\u001b[0m\n",
      "\u001b[1;32mh5py/_objects.pyx\u001b[0m in \u001b[0;36mh5py._objects.with_phil.wrapper (/tmp/pip-build-dsobzz9b/h5py/h5py/_objects.c:2429)\u001b[1;34m()\u001b[0m\n",
      "\u001b[1;32m/home/hannes/.virtualenvs/devel/lib/python3.4/site-packages/h5py/_hl/dataset.py\u001b[0m in \u001b[0;36mvalue\u001b[1;34m(self)\u001b[0m\n\u001b[0;32m    191\u001b[0m         DeprecationWarning(\"dataset.value has been deprecated. \"\n\u001b[0;32m    192\u001b[0m             \"Use dataset[()] instead.\")\n\u001b[1;32m--> 193\u001b[1;33m         \u001b[1;32mreturn\u001b[0m \u001b[0mself\u001b[0m\u001b[1;33m[\u001b[0m\u001b[1;33m(\u001b[0m\u001b[1;33m)\u001b[0m\u001b[1;33m]\u001b[0m\u001b[1;33m\u001b[0m\u001b[0m\n\u001b[0m\u001b[0;32m    194\u001b[0m \u001b[1;33m\u001b[0m\u001b[0m\n\u001b[0;32m    195\u001b[0m     \u001b[1;33m@\u001b[0m\u001b[0mproperty\u001b[0m\u001b[1;33m\u001b[0m\u001b[0m\n",
      "\u001b[1;32mh5py/_objects.pyx\u001b[0m in \u001b[0;36mh5py._objects.with_phil.wrapper (/tmp/pip-build-dsobzz9b/h5py/h5py/_objects.c:2472)\u001b[1;34m()\u001b[0m\n",
      "\u001b[1;32mh5py/_objects.pyx\u001b[0m in \u001b[0;36mh5py._objects.with_phil.wrapper (/tmp/pip-build-dsobzz9b/h5py/h5py/_objects.c:2429)\u001b[1;34m()\u001b[0m\n",
      "\u001b[1;32m/home/hannes/.virtualenvs/devel/lib/python3.4/site-packages/h5py/_hl/dataset.py\u001b[0m in \u001b[0;36m__getitem__\u001b[1;34m(self, args)\u001b[0m\n\u001b[0;32m    449\u001b[0m         \u001b[0mmspace\u001b[0m \u001b[1;33m=\u001b[0m \u001b[0mh5s\u001b[0m\u001b[1;33m.\u001b[0m\u001b[0mcreate_simple\u001b[0m\u001b[1;33m(\u001b[0m\u001b[0mmshape\u001b[0m\u001b[1;33m)\u001b[0m\u001b[1;33m\u001b[0m\u001b[0m\n\u001b[0;32m    450\u001b[0m         \u001b[0mfspace\u001b[0m \u001b[1;33m=\u001b[0m \u001b[0mselection\u001b[0m\u001b[1;33m.\u001b[0m\u001b[0m_id\u001b[0m\u001b[1;33m\u001b[0m\u001b[0m\n\u001b[1;32m--> 451\u001b[1;33m         \u001b[0mself\u001b[0m\u001b[1;33m.\u001b[0m\u001b[0mid\u001b[0m\u001b[1;33m.\u001b[0m\u001b[0mread\u001b[0m\u001b[1;33m(\u001b[0m\u001b[0mmspace\u001b[0m\u001b[1;33m,\u001b[0m \u001b[0mfspace\u001b[0m\u001b[1;33m,\u001b[0m \u001b[0marr\u001b[0m\u001b[1;33m,\u001b[0m \u001b[0mmtype\u001b[0m\u001b[1;33m)\u001b[0m\u001b[1;33m\u001b[0m\u001b[0m\n\u001b[0m\u001b[0;32m    452\u001b[0m \u001b[1;33m\u001b[0m\u001b[0m\n\u001b[0;32m    453\u001b[0m         \u001b[1;31m# Patch up the output for NumPy\u001b[0m\u001b[1;33m\u001b[0m\u001b[1;33m\u001b[0m\u001b[0m\n",
      "\u001b[1;31mKeyboardInterrupt\u001b[0m: "
     ]
    }
   ],
   "source": [
    "from os import listdir\n",
    "from os.path import isfile, join\n",
    "import os\n",
    "import numpy as np\n",
    "from amrafile import amrafile as af\n",
    "from amracommon.analysis.registration import normalized_cross_correlation\n",
    "\n",
    "testTargets = [\"0015A\",\"0015B\",\"0015C\",\"0015D\",\"0015E\",\"0015F\",\"00152\",\"00154\",\"00155\",\n",
    "                \"00156\",\"00157\",\"00158\",\"00159\",\"0014A\",\"0014B\",\"0014D\",\"0014F\",\n",
    "                \"00140\",\"00141\",\"00142\",\"00143\",\"00144\",\"00145\",\"00146\",\"00147\"]\n",
    "\n",
    "#testTargets = [\"00150\"]\n",
    "reduced_size = [22,22,22]\n",
    "\n",
    "error = []\n",
    "\n",
    "for target in testTargets:\n",
    "\n",
    "    signal = af.parse('/moria/data/DB/0030/'+target+'/wholebody_normalized_water_1_'+target+'.amra')\n",
    "    prototypePath = '/media/hannes/localDrive/DB/0030/'+target+'/prototypes'\n",
    "    \n",
    "    prototypes = [join(prototypePath,f) for f in listdir(prototypePath)  if isfile(join(prototypePath, f))]\n",
    "    \n",
    "    nbr_of_prototypes = len(prototypes)\n",
    "    \n",
    "    targetPoi = signal.get_poi('T9')\n",
    "    voxelSize = signal.voxel_size()\n",
    "    \n",
    "    prototypeSignals = []\n",
    "    for prototype in prototypes:\n",
    "        prototypeSignals.append(af.parse(prototype))\n",
    "        \n",
    "    prototypesT9 = []\n",
    "    for sig in prototypeSignals:\n",
    "        prototypesT9.append(sig.get_poi('T9'))\n",
    "        \n",
    "    ncc = []\n",
    "    \n",
    "    target = signal.data\n",
    "\n",
    "    for ind, poi in enumerate(prototypesT9):\n",
    "\n",
    "        z_lower = poi[0]-reduced_size[0]\n",
    "        z_upper = poi[0]+reduced_size[0]+1\n",
    "        y_lower = poi[1]-reduced_size[1]\n",
    "        y_upper = poi[1]+reduced_size[1]+1\n",
    "        x_lower = poi[2]-reduced_size[2]\n",
    "        x_upper = poi[2]+reduced_size[2]+1\n",
    "\n",
    "        prototype = prototypeSignals[ind].data\n",
    "\n",
    "        ''' Extract reduced space from prototype and target'''\n",
    "        reduced_prototype = prototype[z_lower:z_upper, y_lower:y_upper, x_lower:x_upper]\n",
    "        reduced_target = signal.data[z_lower:z_upper, y_lower:y_upper, x_lower:x_upper]\n",
    "\n",
    "        ''' Calculate ncc and store in lists'''\n",
    "        ncc.append(normalized_cross_correlation(reduced_prototype, reduced_target))\n",
    "        #prototype_mean = np.tile(np.mean(reduced_prototype),reduced_prototype.shape)\n",
    "        #target_mean = np.tile(np.mean(reduced_target),reduced_target.shape)\n",
    "        #prototype_std = np.std(reduced_prototype)\n",
    "        #target_std = np.std(reduced_target)\n",
    "        #ncc.append(np.sum(((reduced_prototype-prototype_mean)/prototype_std-(reduced_target-target_mean)/target_std)**2))\n",
    "            \n",
    "    poi_index = ncc.index(max(ncc))\n",
    "    \n",
    "    ''' Repmat the target poi to compare distances'''\n",
    "    rep_target_poi = np.tile(targetPoi, (nbr_of_prototypes,1))\n",
    "    rep_target_size = np.tile(voxelSize, (nbr_of_prototypes,1))\n",
    "\n",
    "    ''' Diff between target poi ground truth and every deformed prototype poi in mm'''\n",
    "    poi_diff = list(prototypesT9 - rep_target_poi)\n",
    "\n",
    "    sorted_diff = np.array([(x,y) for (y,x) in sorted(zip(ncc,poi_diff))])\n",
    "\n",
    "    ncc_diff = poi_diff[poi_index]\n",
    "    print(ncc_diff)\n",
    "\n",
    "    ''' Differences sorted in ascending order'''\n",
    "    #sorted_diff = sorted(poi_diff)\n",
    "\n",
    "    ''' Best poi to choose from prototypes '''\n",
    "    #prototype_poi_index = poi_diff.index(min(poi_diff))\n",
    "    "
   ]
  },
  {
   "cell_type": "code",
   "execution_count": 31,
   "metadata": {
    "collapsed": false
   },
   "outputs": [],
   "source": [
    "a = np.random.randn(3,3,3)"
   ]
  },
  {
   "cell_type": "code",
   "execution_count": 38,
   "metadata": {
    "collapsed": false
   },
   "outputs": [
    {
     "data": {
      "text/plain": [
       "array([[[-0.80121461, -1.02971986, -0.30165876],\n",
       "        [-0.02286941,  0.56436372,  0.45042691],\n",
       "        [-1.06242112,  1.65607581, -1.0742426 ]],\n",
       "\n",
       "       [[-0.39344098, -0.74747236, -0.16789371],\n",
       "        [ 0.5201725 , -0.32907401,  0.65730587],\n",
       "        [-2.77480296, -0.59583172,  0.15624456]],\n",
       "\n",
       "       [[-0.06150035, -1.05511785, -1.41137002],\n",
       "        [-1.63368263,  0.16552949,  1.26611722],\n",
       "        [ 1.58998498, -0.55972422,  1.04409914]]])"
      ]
     },
     "execution_count": 38,
     "metadata": {},
     "output_type": "execute_result"
    }
   ],
   "source": [
    "a/np.std(a)"
   ]
  },
  {
   "cell_type": "code",
   "execution_count": null,
   "metadata": {
    "collapsed": true
   },
   "outputs": [],
   "source": []
  }
 ],
 "metadata": {
  "kernelspec": {
   "display_name": "Python 3",
   "language": "python",
   "name": "python3"
  },
  "language_info": {
   "codemirror_mode": {
    "name": "ipython",
    "version": 3
   },
   "file_extension": ".py",
   "mimetype": "text/x-python",
   "name": "python",
   "nbconvert_exporter": "python",
   "pygments_lexer": "ipython3",
   "version": "3.4.3+"
  }
 },
 "nbformat": 4,
 "nbformat_minor": 0
}
