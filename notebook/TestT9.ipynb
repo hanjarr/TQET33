{
 "cells": [
  {
   "cell_type": "code",
   "execution_count": 41,
   "metadata": {
    "collapsed": false
   },
   "outputs": [
    {
     "name": "stdout",
     "output_type": "stream",
     "text": [
      "0\n",
      "1\n",
      "2\n",
      "3\n",
      "4\n",
      "5\n",
      "6\n",
      "7\n",
      "8\n",
      "9\n",
      "10\n",
      "11\n",
      "12\n",
      "13\n",
      "14\n",
      "15\n",
      "16\n",
      "17\n",
      "18\n",
      "19\n",
      "20\n",
      "21\n",
      "22\n",
      "23\n",
      "24\n",
      "25\n",
      "26\n",
      "27\n",
      "28\n",
      "29\n",
      "30\n"
     ]
    }
   ],
   "source": [
    "from os import listdir\n",
    "from os.path import isfile, join\n",
    "import os\n",
    "import numpy as np\n",
    "from amrafile import amrafile as af\n",
    "from amracommon.analysis.registration import normalized_cross_correlation\n",
    "from scipy.ndimage import gaussian_filter, sobel\n",
    "import matplotlib.pyplot as plt\n",
    "\n",
    "testTargets =  [\"0013B\",\"0013C\",\"0013D\",\"0013E\",\"0013F\",\"00130\",\"00131\",\n",
    "     \"00132\",\"00133\",\"00134\",\"00135\",\"00136\",\"00137\",\"0014A\",\"0014B\",\n",
    "    \"0014D\",\"0014F\",\"00140\",\"00141\",\"00142\",\"00143\",\"00144\",\"00145\",\n",
    "     \"00146\",\"00147\",\"0015A\",\"0015B\",\"0015C\",\"0015D\",\"0015E\",\"0015F\"]\n",
    "\n",
    "#testTargets = [\"00040\",\"00041\",\"00042\",\"00043\",\"00044\",\"00045\",\"00046\",\"00047\",\n",
    "#               \"00048\",\"00034\",\"00035\",\"00036\",\"00037\",\"00038\",\"00039\",\"0003A\",\"0003B\",\n",
    "#               \"0003C\",\"0001A\",\"0001B\",\"0001C\",\"0001D\",\"0001E\",\"0001F\",\"00020\",\"00021\",\"00022\",\"00023\",\n",
    "#                \"00024\",\"00025\",\"0003D\"]\n",
    "\n",
    "searchSize = [22, 22, 22]\n",
    "\n",
    "error = []\n",
    "\n",
    "testPoi = 'T9'\n",
    "\n",
    "sortedDist = np.zeros((len(testTargets),29))\n",
    "sortedNcc = sortedDist.copy()\n",
    "\n",
    "    \n",
    "for k, target in enumerate(testTargets):\n",
    "\n",
    "    signal = af.parse('/moria/data/DB/0030/'+target+'/wholebody_normalized_water_1_'+target+'.amra')\n",
    "    prototypePath = '/media/hannes/localDrive/DB/0030/'+target+'/prototypes'\n",
    "    \n",
    "    prototypes = [join(prototypePath,f) for f in listdir(prototypePath)  if isfile(join(prototypePath, f))]\n",
    "    \n",
    "    nbrOfPrototypes = len(prototypes)\n",
    "    \n",
    "    targetPoi = signal.get_poi(testPoi)\n",
    "    voxelSize = signal.voxel_size()\n",
    "    \n",
    "    reducedSize = np.round(searchSize/np.array(voxelSize)).astype(int)\n",
    "    \n",
    "    sobelPrototype = np.zeros((reducedSize*2+1))\n",
    "    sobelTarget = sobelPrototype.copy()\n",
    "        \n",
    "    prototypeSignals = [af.parse(prototype) for prototype in prototypes]\n",
    "    \n",
    "    prototypePois = [sig.get_poi(testPoi) for sig in prototypeSignals]\n",
    "        \n",
    "    nccLocal, nccFull = [], []\n",
    "    \n",
    "    targetData = signal.data\n",
    "    \n",
    "    reducedPrototypes, reducedTargets = [], []\n",
    "\n",
    "    for ind, poi in enumerate(prototypePois):\n",
    "\n",
    "        z_lower = poi[0]-reducedSize[0]\n",
    "        z_upper = poi[0]+reducedSize[0]+1\n",
    "        y_lower = poi[1]-reducedSize[1]\n",
    "        y_upper = poi[1]+reducedSize[1]+1\n",
    "        x_lower = poi[2]-reducedSize[2]\n",
    "        x_upper = poi[2]+reducedSize[2]+1\n",
    "\n",
    "        prototype = prototypeSignals[ind].data\n",
    "\n",
    "        ''' Extract reduced space from prototype and target'''\n",
    "        reducedPrototype = prototype[z_lower:z_upper, y_lower:y_upper, x_lower:x_upper]\n",
    "        reducedTarget = targetData[z_lower:z_upper, y_lower:y_upper, x_lower:x_upper]\n",
    "        \n",
    "        #reducedPrototype = prototype[z_lower:z_upper,:,:]\n",
    "        #reducedTarget = targetData[z_lower:z_upper,:,:]\n",
    "        \n",
    "        reducedPrototype = gaussian_filter(reducedPrototype,0.5,mode='constant')\n",
    "        reducedTarget = gaussian_filter(reducedTarget,0.5,mode='constant')\n",
    "\n",
    "        ''' Calculate ncc and store in lists'''\n",
    "        nccFull.append(normalized_cross_correlation(prototype[0:prototype.shape[0]-5, 0:prototype.shape[1]-5,\n",
    "                                                              0:prototype.shape[2]-5], targetData[0:prototype.shape[0]-5,\n",
    "                                                              0:prototype.shape[1]-5, 0:prototype.shape[2]-5]))\n",
    "        \n",
    "        nccLocal.append(normalized_cross_correlation(reducedPrototype, reducedTarget))\n",
    "        \n",
    "        reducedPrototypes.append(reducedPrototype)\n",
    "        reducedTargets.append(reducedTarget)\n",
    "    \n",
    "    ncc = list(np.array(nccLocal) + np.array(nccFull))\n",
    "    poiIndex = ncc.index(max(ncc))\n",
    "    worstIndex = ncc.index(min(ncc))\n",
    "    \n",
    "    #plt.figure(frameon =False)\n",
    "    #currentAxis = plt.gca()\n",
    "    #plt.imshow((reducedPrototypes[poiIndex][30,:,:]),  plt.get_cmap('gray'), interpolation = 'nearest', origin='lower')\n",
    "    #plt.autoscale(False)\n",
    "    #plt.colorbar()\n",
    "\n",
    "    #plt.figure(frameon =False)\n",
    "    #currentAxis = plt.gca()\n",
    "    #plt.imshow((reducedTargets[poiIndex][30,:,:]),  plt.get_cmap('gray'), interpolation = 'nearest', origin='lower')\n",
    "    #plt.autoscale(False)\n",
    "    #plt.colorbar()\n",
    "    \n",
    "    #plt.figure(frameon =False)\n",
    "    #currentAxis = plt.gca()\n",
    "    #plt.imshow((reducedPrototypes[worstIndex][30,:,:]),  plt.get_cmap('gray'), interpolation = 'nearest', origin='lower')\n",
    "    #plt.autoscale(False)\n",
    "    #plt.colorbar()\n",
    "\n",
    "    #plt.figure(frameon =False)\n",
    "    #currentAxis = plt.gca()\n",
    "    #plt.imshow((reducedTargets[worstIndex][30,:,:]),  plt.get_cmap('gray'), interpolation = 'nearest', origin='lower')\n",
    "    #plt.autoscale(False)\n",
    "    #plt.colorbar()\n",
    "\n",
    "\n",
    "    \n",
    "    ''' Repmat the target poi to compare distances'''\n",
    "    repTargetPoi = np.tile(targetPoi, (nbrOfPrototypes,1))\n",
    "    repTargetSize = np.tile(voxelSize, (nbrOfPrototypes,1))\n",
    "\n",
    "    ''' Diff between target poi ground truth and every deformed prototype poi in mm'''\n",
    "    poiDiff = list(np.sqrt(np.sum(((prototypePois - repTargetPoi)*voxelSize)**2,1)))\n",
    "    \n",
    "    zDiff = list((abs(prototypePois - repTargetPoi))[:,0])\n",
    "    \n",
    "    diffList = np.array(list(zip(poiDiff,ncc)))\n",
    "    \n",
    "    bestIndex = zDiff.index(min(zDiff))\n",
    "    \n",
    "    #plt.figure(frameon =False)\n",
    "    #currentAxis = plt.gca()\n",
    "    #plt.imshow((reducedPrototypes[bestIndex][30,:,:]),  plt.get_cmap('gray'), interpolation = 'nearest', origin='lower')\n",
    "    #plt.autoscale(False)\n",
    "    #plt.colorbar()\n",
    "\n",
    "    #plt.figure(frameon =False)\n",
    "    #currentAxis = plt.gca()\n",
    "    #plt.imshow((reducedTargets[bestIndex][30,:,:]),  plt.get_cmap('gray'), interpolation = 'nearest', origin='lower')\n",
    "    #plt.autoscale(False)\n",
    "    #plt.colorbar()\n",
    "    \n",
    "\n",
    "\n",
    "    sortedList = np.array([(x,y) for (y,x) in sorted(zip(ncc,zDiff))])\n",
    "    \n",
    "    sortedDist[k,:] = sortedList[:,0]\n",
    "    sortedNcc[k,:] = sortedList[:,1]\n",
    "\n",
    "    nccDiff = poiDiff[poiIndex]\n",
    "    error.append(zDiff)\n",
    "    \n",
    "    #print(zDiff[poiIndex])\n",
    "    #print(zDiff[worstIndex])\n",
    "    #print(zDiff[bestIndex])\n",
    "\n",
    "    ''' Differences sorted in ascending order'''\n",
    "    #sorted_diff = sorted(poi_diff)\n",
    "\n",
    "    ''' Best poi to choose from prototypes '''\n",
    "    #prototype_poi_index = poi_diff.index(min(poi_diff))\n",
    "    plt.show()\n",
    "        \n",
    "    print(k)\n",
    "\n",
    "meanDist = np.mean(sortedDist,0)\n",
    "stdNcc = np.std(sortedNcc,0)\n",
    "meanNcc = np.mean(sortedNcc,0)\n",
    "stdDist = np.std(sortedDist,0)\n",
    "\n",
    "plt.figure(frameon =False)\n",
    "currentAxis = plt.gca()\n",
    "plt.plot(range(0,len(prototypes)),meanDist)\n",
    "plt.fill_between(range(0,len(prototypes)), meanDist-stdDist, meanDist+stdDist, alpha=0.3, edgecolor='Blue', facecolor='Blue', linewidth = 0)\n",
    "plt.autoscale(False)\n",
    "plt.show()\n"
   ]
  },
  {
   "cell_type": "code",
   "execution_count": 44,
   "metadata": {
    "collapsed": false
   },
   "outputs": [
    {
     "data": {
      "text/plain": [
       "8.70414851855171"
      ]
     },
     "execution_count": 44,
     "metadata": {},
     "output_type": "execute_result"
    }
   ],
   "source": [
    "nccDiff"
   ]
  },
  {
   "cell_type": "code",
   "execution_count": 7,
   "metadata": {
    "collapsed": false
   },
   "outputs": [],
   "source": [
    "plt.figure(frameon =False)\n",
    "currentAxis = plt.gca()\n",
    "plt.plot(range(0,len(prototypes)),meanDist)\n",
    "plt.fill_between(range(0,len(prototypes)), meanDist-stdDist, meanDist+stdDist, alpha=0.3, edgecolor='Blue', facecolor='Blue', linewidth = 0)\n",
    "plt.autoscale(False)\n",
    "plt.ylim(0,15)\n",
    "#plt.savefig('poiInit_T9_z.png', bbox_inches='tight')\n",
    "plt.show()"
   ]
  },
  {
   "cell_type": "code",
   "execution_count": 126,
   "metadata": {
    "collapsed": false
   },
   "outputs": [],
   "source": [
    "meanDist /= np.amax(meanDist)"
   ]
  },
  {
   "cell_type": "code",
   "execution_count": 140,
   "metadata": {
    "collapsed": false
   },
   "outputs": [
    {
     "data": {
      "text/plain": [
       "29"
      ]
     },
     "execution_count": 140,
     "metadata": {},
     "output_type": "execute_result"
    }
   ],
   "source": [
    "nbrOfPrototypes"
   ]
  },
  {
   "cell_type": "code",
   "execution_count": 32,
   "metadata": {
    "collapsed": false
   },
   "outputs": [
    {
     "data": {
      "text/plain": [
       "15.702831511073732"
      ]
     },
     "execution_count": 32,
     "metadata": {},
     "output_type": "execute_result"
    }
   ],
   "source": [
    "np.mean(zDiff)*voxelSize[0]"
   ]
  },
  {
   "cell_type": "code",
   "execution_count": 34,
   "metadata": {
    "collapsed": false
   },
   "outputs": [],
   "source": [
    "a = [1,2,3]\n",
    "b = [3,2,1]"
   ]
  },
  {
   "cell_type": "code",
   "execution_count": 36,
   "metadata": {
    "collapsed": false
   },
   "outputs": [
    {
     "data": {
      "text/plain": [
       "array([4, 4, 4])"
      ]
     },
     "execution_count": 36,
     "metadata": {},
     "output_type": "execute_result"
    }
   ],
   "source": [
    "np.array(a)+np.array(b)"
   ]
  },
  {
   "cell_type": "code",
   "execution_count": 169,
   "metadata": {
    "collapsed": false
   },
   "outputs": [
    {
     "name": "stdout",
     "output_type": "stream",
     "text": [
      "[98 47 47]\n"
     ]
    }
   ],
   "source": [
    "target_poi = (100,50,50)\n",
    "target_voxel_size = (3,2.23,2.23)\n",
    "\n",
    "mean_dev = [ 1,  2,  2]\n",
    "mean_std = np.array([ 1,  2,  2])\n",
    "\n",
    "''' Directional combinations'''\n",
    "dir_comb = np.array([[1,1,1],[1,1,-1],[1,-1,-1],[-1,1,-1],[1,-1,1],[-1,-1,-1]])\n",
    "\n",
    "''' Take directions into account in the mean POI deviation'''\n",
    "mean_temp = dir_comb[np.random.randint(0,len(dir_comb))]*mean_dev\n",
    "\n",
    "''' Add positional noise to POI position'''\n",
    "poi = target_poi + np.round([np.random.normal(0, y) + x for x,y in zip(mean_temp, mean_std)]).astype(int)\n",
    "\n",
    "print(poi)"
   ]
  },
  {
   "cell_type": "code",
   "execution_count": 160,
   "metadata": {
    "collapsed": false
   },
   "outputs": [
    {
     "data": {
      "text/plain": [
       "4.3526773369961616"
      ]
     },
     "execution_count": 160,
     "metadata": {},
     "output_type": "execute_result"
    }
   ],
   "source": [
    "np.sqrt(sum(((poi - target_poi)*target_voxel_size)**2))"
   ]
  },
  {
   "cell_type": "code",
   "execution_count": 121,
   "metadata": {
    "collapsed": false
   },
   "outputs": [
    {
     "data": {
      "text/plain": [
       "array([ 0.4017094 ,  0.88536277,  0.56341267])"
      ]
     },
     "execution_count": 121,
     "metadata": {},
     "output_type": "execute_result"
    }
   ],
   "source": [
    "dir_comb[np.random.randint(0,len(dir_comb))]*mean_dev/target_voxel_size"
   ]
  },
  {
   "cell_type": "code",
   "execution_count": null,
   "metadata": {
    "collapsed": true
   },
   "outputs": [],
   "source": []
  }
 ],
 "metadata": {
  "kernelspec": {
   "display_name": "Python 3",
   "language": "python",
   "name": "python3"
  },
  "language_info": {
   "codemirror_mode": {
    "name": "ipython",
    "version": 3
   },
   "file_extension": ".py",
   "mimetype": "text/x-python",
   "name": "python",
   "nbconvert_exporter": "python",
   "pygments_lexer": "ipython3",
   "version": "3.4.3+"
  }
 },
 "nbformat": 4,
 "nbformat_minor": 0
}
