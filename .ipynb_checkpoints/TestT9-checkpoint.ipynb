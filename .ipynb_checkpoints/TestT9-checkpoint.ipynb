{
 "cells": [
  {
   "cell_type": "code",
   "execution_count": 1,
   "metadata": {
    "collapsed": false
   },
   "outputs": [
    {
     "ename": "ValueError",
     "evalue": "The truth value of an array with more than one element is ambiguous. Use a.any() or a.all()",
     "output_type": "error",
     "traceback": [
      "\u001b[1;31m---------------------------------------------------------------------------\u001b[0m",
      "\u001b[1;31mValueError\u001b[0m                                Traceback (most recent call last)",
      "\u001b[1;32m<ipython-input-1-4151eaada70b>\u001b[0m in \u001b[0;36m<module>\u001b[1;34m()\u001b[0m\n\u001b[0;32m     70\u001b[0m \u001b[1;33m\u001b[0m\u001b[0m\n\u001b[0;32m     71\u001b[0m     \u001b[1;34m''' Best poi to choose from prototypes '''\u001b[0m\u001b[1;33m\u001b[0m\u001b[0m\n\u001b[1;32m---> 72\u001b[1;33m     \u001b[0mprototype_poi_index\u001b[0m \u001b[1;33m=\u001b[0m \u001b[0mpoi_diff\u001b[0m\u001b[1;33m.\u001b[0m\u001b[0mindex\u001b[0m\u001b[1;33m(\u001b[0m\u001b[0mmin\u001b[0m\u001b[1;33m(\u001b[0m\u001b[0mpoi_diff\u001b[0m\u001b[1;33m)\u001b[0m\u001b[1;33m)\u001b[0m\u001b[1;33m\u001b[0m\u001b[0m\n\u001b[0m\u001b[0;32m     73\u001b[0m \u001b[1;33m\u001b[0m\u001b[0m\n\u001b[0;32m     74\u001b[0m \u001b[1;33m\u001b[0m\u001b[0m\n",
      "\u001b[1;31mValueError\u001b[0m: The truth value of an array with more than one element is ambiguous. Use a.any() or a.all()"
     ]
    }
   ],
   "source": [
    "from os import listdir\n",
    "from os.path import isfile, join\n",
    "import os\n",
    "import numpy as np\n",
    "from amrafile import amrafile as af\n",
    "from amracommon.analysis.registration import normalized_cross_correlation\n",
    "\n",
    "testTargets = [\"0015A\",\"0015B\",\"0015C\",\"0015D\",\"0015E\",\"0015F\",\"00152\",\"00154\",\"00155\",\n",
    "                \"00156\",\"00157\",\"00158\",\"00159\",\"0014A\",\"0014B\",\"0014D\",\"0014F\",\n",
    "                \"00140\",\"00141\",\"00142\",\"00143\",\"00144\",\"00145\",\"00146\",\"00147\"]\n",
    "\n",
    "reduced_size = [40,3,3]\n",
    "\n",
    "error = []\n",
    "\n",
    "for target in testTargets:\n",
    "\n",
    "    signal = af.parse('/moria/data/DB/0030/'+target+'/wholebody_normalized_water_1_'+target+'.amra')\n",
    "    prototypePath = '/media/hannes/localDrive/DB/0030/'+target+'/prototypes'\n",
    "    \n",
    "    prototypes = [join(prototypePath,f) for f in listdir(prototypePath)  if isfile(join(prototypePath, f))]\n",
    "    \n",
    "    nbr_of_prototypes = len(prototypes)\n",
    "    \n",
    "    targetPoi = signal.get_poi('T9')\n",
    "    voxelSize = signal.voxel_size()\n",
    "    \n",
    "    prototypeSignals = []\n",
    "    for prototype in prototypes:\n",
    "        prototypeSignals.append(af.parse(prototype))\n",
    "        \n",
    "    prototypesT9 = []\n",
    "    for sig in prototypeSignals:\n",
    "        prototypesT9.append(sig.get_poi('T9'))\n",
    "        \n",
    "    ncc = []\n",
    "    \n",
    "    target = signal.data\n",
    "\n",
    "    for ind, poi in enumerate(prototypesT9):\n",
    "\n",
    "        z_lower = poi[0]-reduced_size[0]\n",
    "        z_upper = poi[0]+reduced_size[0]+1\n",
    "        y_lower = poi[1]-reduced_size[1]\n",
    "        y_upper = poi[1]+reduced_size[1]+1\n",
    "        x_lower = poi[2]-reduced_size[2]\n",
    "        x_upper = poi[2]+reduced_size[2]+1\n",
    "\n",
    "        prototype = prototypeSignals[ind].data\n",
    "\n",
    "        ''' Extract reduced space from prototype and target'''\n",
    "        reduced_prototype = prototype[z_lower:z_upper, y_lower:y_upper, x_lower:x_upper]\n",
    "        reduced_target = signal.data[z_lower:z_upper, y_lower:y_upper, x_lower:x_upper]\n",
    "\n",
    "        ''' Calculate ncc and store in lists'''\n",
    "        ncc.append(normalized_cross_correlation(reduced_prototype, reduced_target))\n",
    "            \n",
    "    poi_index = ncc.index(max(ncc))\n",
    "    \n",
    "    ''' Repmat the target poi to compare distances'''\n",
    "    rep_target_poi = np.tile(targetPoi, (nbr_of_prototypes,1))\n",
    "    rep_target_size = np.tile(voxelSize, (nbr_of_prototypes,1))\n",
    "\n",
    "    ''' Diff between target poi ground truth and every deformed prototype poi in mm'''\n",
    "    poi_diff = list(np.array(prototypesT9 - rep_target_poi))\n",
    "    ncc_diff = poi_diff[poi_index]\n",
    "\n",
    "    ''' Differences sorted in ascending order'''\n",
    "    #sorted_diff = sorted(poi_diff)\n",
    "\n",
    "    ''' Best poi to choose from prototypes '''\n",
    "    #prototype_poi_index = poi_diff.index(min(poi_diff))\n",
    "\n",
    "    \n",
    "    error.append(ncc_diff)\n",
    "   \n",
    "    print('ncc')\n",
    "    print(ncc_diff)\n",
    "    #print('best proto')\n",
    "    #print(min(poi_diff))\n",
    "    \n",
    "#print(np.mean(error))\n",
    "#print(np.std(error))\n",
    "    "
   ]
  },
  {
   "cell_type": "code",
   "execution_count": 66,
   "metadata": {
    "collapsed": false
   },
   "outputs": [],
   "source": []
  },
  {
   "cell_type": "code",
   "execution_count": 67,
   "metadata": {
    "collapsed": false
   },
   "outputs": [
    {
     "data": {
      "text/plain": [
       "(269, 124, 112)"
      ]
     },
     "execution_count": 67,
     "metadata": {},
     "output_type": "execute_result"
    }
   ],
   "source": [
    "prototypeSignals[poi_index].get_poi('T9')"
   ]
  },
  {
   "cell_type": "code",
   "execution_count": 62,
   "metadata": {
    "collapsed": false
   },
   "outputs": [
    {
     "data": {
      "text/plain": [
       "(267, 125, 111)"
      ]
     },
     "execution_count": 62,
     "metadata": {},
     "output_type": "execute_result"
    }
   ],
   "source": []
  },
  {
   "cell_type": "code",
   "execution_count": 18,
   "metadata": {
    "collapsed": true
   },
   "outputs": [],
   "source": [
    "new_signal = af.parse('/home/hannes/DB/0030/0015D/wholebody_normalized_water_1_0015D.amra')"
   ]
  },
  {
   "cell_type": "code",
   "execution_count": 19,
   "metadata": {
    "collapsed": true
   },
   "outputs": [],
   "source": [
    "new_signal_data = new_signal.data"
   ]
  },
  {
   "cell_type": "code",
   "execution_count": 20,
   "metadata": {
    "collapsed": false
   },
   "outputs": [
    {
     "data": {
      "text/plain": [
       "(333, 174, 224)"
      ]
     },
     "execution_count": 20,
     "metadata": {},
     "output_type": "execute_result"
    }
   ],
   "source": [
    "new_signal_data.shape"
   ]
  },
  {
   "cell_type": "code",
   "execution_count": 21,
   "metadata": {
    "collapsed": true
   },
   "outputs": [],
   "source": [
    "test_matrix = np.random.randint(5, size = (3,3,3))"
   ]
  },
  {
   "cell_type": "code",
   "execution_count": 22,
   "metadata": {
    "collapsed": false
   },
   "outputs": [
    {
     "data": {
      "text/plain": [
       "array([[[1, 0, 2],\n",
       "        [3, 1, 1],\n",
       "        [0, 2, 0]],\n",
       "\n",
       "       [[4, 1, 3],\n",
       "        [2, 0, 4],\n",
       "        [2, 0, 4]],\n",
       "\n",
       "       [[4, 3, 3],\n",
       "        [4, 1, 4],\n",
       "        [1, 1, 4]]])"
      ]
     },
     "execution_count": 22,
     "metadata": {},
     "output_type": "execute_result"
    }
   ],
   "source": [
    "test_matrix"
   ]
  },
  {
   "cell_type": "code",
   "execution_count": 23,
   "metadata": {
    "collapsed": false
   },
   "outputs": [
    {
     "data": {
      "text/plain": [
       "array([[[1, 0],\n",
       "        [3, 1]],\n",
       "\n",
       "       [[4, 1],\n",
       "        [2, 0]],\n",
       "\n",
       "       [[4, 3],\n",
       "        [4, 1]]])"
      ]
     },
     "execution_count": 23,
     "metadata": {},
     "output_type": "execute_result"
    }
   ],
   "source": [
    "test_matrix[0:3,0:2,0:2]"
   ]
  },
  {
   "cell_type": "code",
   "execution_count": 24,
   "metadata": {
    "collapsed": true
   },
   "outputs": [],
   "source": [
    "new_test = np.random.randint(5, size = (3,3,3))"
   ]
  },
  {
   "cell_type": "code",
   "execution_count": 25,
   "metadata": {
    "collapsed": true
   },
   "outputs": [],
   "source": [
    "from amracommon.analysis.registration import normalized_cross_correlation"
   ]
  },
  {
   "cell_type": "code",
   "execution_count": 26,
   "metadata": {
    "collapsed": false
   },
   "outputs": [
    {
     "data": {
      "text/plain": [
       "-0.03329145728643218"
      ]
     },
     "execution_count": 26,
     "metadata": {},
     "output_type": "execute_result"
    }
   ],
   "source": [
    "normalized_cross_correlation(test_matrix,new_test)"
   ]
  },
  {
   "cell_type": "code",
   "execution_count": 27,
   "metadata": {
    "collapsed": false
   },
   "outputs": [
    {
     "data": {
      "text/plain": [
       "array([[[3, 1, 2],\n",
       "        [1, 3, 0],\n",
       "        [4, 2, 4]],\n",
       "\n",
       "       [[3, 1, 0],\n",
       "        [4, 0, 3],\n",
       "        [0, 4, 1]],\n",
       "\n",
       "       [[1, 0, 4],\n",
       "        [1, 0, 3],\n",
       "        [2, 2, 4]]])"
      ]
     },
     "execution_count": 27,
     "metadata": {},
     "output_type": "execute_result"
    }
   ],
   "source": [
    "new_test"
   ]
  },
  {
   "cell_type": "code",
   "execution_count": 28,
   "metadata": {
    "collapsed": true
   },
   "outputs": [],
   "source": [
    "new_test = np.random.randint(5, size = (5,5))"
   ]
  },
  {
   "cell_type": "code",
   "execution_count": 29,
   "metadata": {
    "collapsed": false
   },
   "outputs": [
    {
     "data": {
      "text/plain": [
       "array([[0, 4, 2, 2, 2],\n",
       "       [2, 1, 4, 4, 3],\n",
       "       [3, 0, 4, 2, 0],\n",
       "       [2, 0, 3, 3, 2],\n",
       "       [4, 0, 3, 3, 0]])"
      ]
     },
     "execution_count": 29,
     "metadata": {},
     "output_type": "execute_result"
    }
   ],
   "source": [
    "new_test"
   ]
  },
  {
   "cell_type": "code",
   "execution_count": 30,
   "metadata": {
    "collapsed": false
   },
   "outputs": [
    {
     "data": {
      "text/plain": [
       "4"
      ]
     },
     "execution_count": 30,
     "metadata": {},
     "output_type": "execute_result"
    }
   ],
   "source": [
    "new_test[2,2]"
   ]
  },
  {
   "cell_type": "code",
   "execution_count": 31,
   "metadata": {
    "collapsed": false
   },
   "outputs": [
    {
     "data": {
      "text/plain": [
       "array([[1, 4, 4],\n",
       "       [0, 4, 2],\n",
       "       [0, 3, 3]])"
      ]
     },
     "execution_count": 31,
     "metadata": {},
     "output_type": "execute_result"
    }
   ],
   "source": [
    "new_test[1:4,1:4]"
   ]
  },
  {
   "cell_type": "code",
   "execution_count": 32,
   "metadata": {
    "collapsed": false
   },
   "outputs": [
    {
     "data": {
      "text/plain": [
       "array([[0, 4, 2, 2, 2],\n",
       "       [2, 1, 4, 4, 3],\n",
       "       [3, 0, 4, 2, 0],\n",
       "       [2, 0, 3, 3, 2],\n",
       "       [4, 0, 3, 3, 0]])"
      ]
     },
     "execution_count": 32,
     "metadata": {},
     "output_type": "execute_result"
    }
   ],
   "source": [
    "new_test"
   ]
  },
  {
   "cell_type": "code",
   "execution_count": 33,
   "metadata": {
    "collapsed": true
   },
   "outputs": [],
   "source": [
    "kernel = np.zeros((3,3,3))"
   ]
  },
  {
   "cell_type": "code",
   "execution_count": 34,
   "metadata": {
    "collapsed": false
   },
   "outputs": [],
   "source": [
    "kernel[1,1,1] = 1"
   ]
  },
  {
   "cell_type": "code",
   "execution_count": 35,
   "metadata": {
    "collapsed": false
   },
   "outputs": [
    {
     "data": {
      "text/plain": [
       "array([[[ 0.,  0.,  0.],\n",
       "        [ 0.,  0.,  0.],\n",
       "        [ 0.,  0.,  0.]],\n",
       "\n",
       "       [[ 0.,  0.,  0.],\n",
       "        [ 0.,  1.,  0.],\n",
       "        [ 0.,  0.,  0.]],\n",
       "\n",
       "       [[ 0.,  0.,  0.],\n",
       "        [ 0.,  0.,  0.],\n",
       "        [ 0.,  0.,  0.]]])"
      ]
     },
     "execution_count": 35,
     "metadata": {},
     "output_type": "execute_result"
    }
   ],
   "source": [
    "kernel"
   ]
  },
  {
   "cell_type": "code",
   "execution_count": 36,
   "metadata": {
    "collapsed": false
   },
   "outputs": [],
   "source": [
    "test2 = np.random.randint(5, size = (5,5,5))"
   ]
  },
  {
   "cell_type": "code",
   "execution_count": 37,
   "metadata": {
    "collapsed": false
   },
   "outputs": [
    {
     "data": {
      "text/plain": [
       "array([[[4, 0, 2, 2, 2],\n",
       "        [3, 4, 0, 1, 3],\n",
       "        [0, 4, 4, 3, 1],\n",
       "        [1, 1, 3, 4, 0],\n",
       "        [4, 4, 1, 2, 1]],\n",
       "\n",
       "       [[1, 0, 2, 4, 2],\n",
       "        [3, 4, 4, 3, 3],\n",
       "        [4, 0, 0, 3, 1],\n",
       "        [1, 3, 3, 0, 0],\n",
       "        [0, 4, 4, 0, 0]],\n",
       "\n",
       "       [[4, 3, 3, 3, 2],\n",
       "        [3, 1, 3, 2, 4],\n",
       "        [2, 2, 3, 3, 4],\n",
       "        [1, 4, 0, 2, 0],\n",
       "        [1, 2, 1, 2, 3]],\n",
       "\n",
       "       [[2, 1, 2, 1, 4],\n",
       "        [2, 1, 2, 1, 0],\n",
       "        [1, 0, 0, 0, 4],\n",
       "        [2, 0, 2, 0, 4],\n",
       "        [2, 4, 4, 0, 1]],\n",
       "\n",
       "       [[1, 4, 4, 1, 2],\n",
       "        [4, 3, 2, 1, 0],\n",
       "        [3, 0, 3, 3, 3],\n",
       "        [4, 4, 3, 0, 4],\n",
       "        [2, 4, 3, 1, 0]]])"
      ]
     },
     "execution_count": 37,
     "metadata": {},
     "output_type": "execute_result"
    }
   ],
   "source": [
    "test2"
   ]
  },
  {
   "cell_type": "code",
   "execution_count": 38,
   "metadata": {
    "collapsed": true
   },
   "outputs": [],
   "source": [
    "from amracommon.analysis.registration import normalized_cross_correlation"
   ]
  },
  {
   "cell_type": "code",
   "execution_count": 39,
   "metadata": {
    "collapsed": true
   },
   "outputs": [],
   "source": [
    "from numpy.linalg import norm\n"
   ]
  },
  {
   "cell_type": "code",
   "execution_count": 40,
   "metadata": {
    "collapsed": false
   },
   "outputs": [
    {
     "data": {
      "text/plain": [
       "(3, 3, 3)"
      ]
     },
     "execution_count": 40,
     "metadata": {},
     "output_type": "execute_result"
    }
   ],
   "source": [
    "kernel.shape"
   ]
  },
  {
   "cell_type": "code",
   "execution_count": 41,
   "metadata": {
    "collapsed": false
   },
   "outputs": [
    {
     "name": "stdout",
     "output_type": "stream",
     "text": [
      "4.0\n",
      "4.0\n",
      "3.0\n",
      "0.0\n",
      "0.0\n",
      "3.0\n",
      "3.0\n",
      "3.0\n",
      "0.0\n",
      "1.0\n",
      "3.0\n",
      "2.0\n",
      "2.0\n",
      "3.0\n",
      "3.0\n",
      "4.0\n",
      "0.0\n",
      "2.0\n",
      "1.0\n",
      "2.0\n",
      "1.0\n",
      "0.0\n",
      "0.0\n",
      "0.0\n",
      "0.0\n",
      "2.0\n",
      "0.0\n",
      "[[[ 4.  4.  3.]\n",
      "  [ 0.  0.  3.]\n",
      "  [ 3.  3.  0.]]\n",
      "\n",
      " [[ 1.  3.  2.]\n",
      "  [ 2.  3.  3.]\n",
      "  [ 4.  0.  2.]]\n",
      "\n",
      " [[ 1.  2.  1.]\n",
      "  [ 0.  0.  0.]\n",
      "  [ 0.  2.  0.]]]\n"
     ]
    }
   ],
   "source": [
    "correlation_results = np.zeros((3,3,3))\n",
    "\n",
    "for z in range(0,test2.shape[0]-kernel.shape[0]+1):\n",
    "    for y in range(0,test2.shape[1]-kernel.shape[1]+1):\n",
    "        for x in range(0,test2.shape[2]-kernel.shape[2]+1):\n",
    "            #print(z,y,x)\n",
    "            reduced_test = test2[z:z+kernel.shape[0],y:y+kernel.shape[1],x:x+kernel.shape[2]]\n",
    "            #print(reduced_test)\n",
    "            a_vec = reduced_test.ravel()\n",
    "            b_vec = kernel.ravel()\n",
    "            ncc = np.inner(a_vec, b_vec)\n",
    "            correlation_results[z,y,x] = ncc\n",
    "            print(ncc)\n",
    "print(correlation_results)"
   ]
  },
  {
   "cell_type": "code",
   "execution_count": 42,
   "metadata": {
    "collapsed": false
   },
   "outputs": [
    {
     "data": {
      "text/plain": [
       "3"
      ]
     },
     "execution_count": 42,
     "metadata": {},
     "output_type": "execute_result"
    }
   ],
   "source": [
    "test2.shape[0]-kernel.shape[0]+1"
   ]
  },
  {
   "cell_type": "code",
   "execution_count": 43,
   "metadata": {
    "collapsed": false
   },
   "outputs": [
    {
     "data": {
      "text/plain": [
       "array([[[4, 0, 2, 2, 2],\n",
       "        [3, 4, 0, 1, 3],\n",
       "        [0, 4, 4, 3, 1],\n",
       "        [1, 1, 3, 4, 0],\n",
       "        [4, 4, 1, 2, 1]],\n",
       "\n",
       "       [[1, 0, 2, 4, 2],\n",
       "        [3, 4, 4, 3, 3],\n",
       "        [4, 0, 0, 3, 1],\n",
       "        [1, 3, 3, 0, 0],\n",
       "        [0, 4, 4, 0, 0]],\n",
       "\n",
       "       [[4, 3, 3, 3, 2],\n",
       "        [3, 1, 3, 2, 4],\n",
       "        [2, 2, 3, 3, 4],\n",
       "        [1, 4, 0, 2, 0],\n",
       "        [1, 2, 1, 2, 3]],\n",
       "\n",
       "       [[2, 1, 2, 1, 4],\n",
       "        [2, 1, 2, 1, 0],\n",
       "        [1, 0, 0, 0, 4],\n",
       "        [2, 0, 2, 0, 4],\n",
       "        [2, 4, 4, 0, 1]],\n",
       "\n",
       "       [[1, 4, 4, 1, 2],\n",
       "        [4, 3, 2, 1, 0],\n",
       "        [3, 0, 3, 3, 3],\n",
       "        [4, 4, 3, 0, 4],\n",
       "        [2, 4, 3, 1, 0]]])"
      ]
     },
     "execution_count": 43,
     "metadata": {},
     "output_type": "execute_result"
    }
   ],
   "source": [
    "test2"
   ]
  },
  {
   "cell_type": "code",
   "execution_count": 44,
   "metadata": {
    "collapsed": true
   },
   "outputs": [],
   "source": [
    "reduced_test2 = test2[1:4,1:4,1:4]"
   ]
  },
  {
   "cell_type": "code",
   "execution_count": 45,
   "metadata": {
    "collapsed": false
   },
   "outputs": [
    {
     "data": {
      "text/plain": [
       "array([[[4, 4, 3],\n",
       "        [0, 0, 3],\n",
       "        [3, 3, 0]],\n",
       "\n",
       "       [[1, 3, 2],\n",
       "        [2, 3, 3],\n",
       "        [4, 0, 2]],\n",
       "\n",
       "       [[1, 2, 1],\n",
       "        [0, 0, 0],\n",
       "        [0, 2, 0]]])"
      ]
     },
     "execution_count": 45,
     "metadata": {},
     "output_type": "execute_result"
    }
   ],
   "source": [
    "reduced_test2"
   ]
  },
  {
   "cell_type": "code",
   "execution_count": 46,
   "metadata": {
    "collapsed": false
   },
   "outputs": [],
   "source": [
    "a = np.random.randint(5, size =(3,4))"
   ]
  },
  {
   "cell_type": "code",
   "execution_count": 47,
   "metadata": {
    "collapsed": true
   },
   "outputs": [],
   "source": [
    "o = np.ones((3,3,3),dtype = int)"
   ]
  },
  {
   "cell_type": "code",
   "execution_count": 48,
   "metadata": {
    "collapsed": false
   },
   "outputs": [
    {
     "data": {
      "text/plain": [
       "array([[[ True,  True,  True],\n",
       "        [ True,  True,  True],\n",
       "        [ True,  True,  True]],\n",
       "\n",
       "       [[ True,  True,  True],\n",
       "        [ True,  True,  True],\n",
       "        [ True,  True,  True]],\n",
       "\n",
       "       [[ True,  True,  True],\n",
       "        [ True,  True,  True],\n",
       "        [ True,  True,  True]]], dtype=bool)"
      ]
     },
     "execution_count": 48,
     "metadata": {},
     "output_type": "execute_result"
    }
   ],
   "source": [
    "o.astype(bool)"
   ]
  },
  {
   "cell_type": "code",
   "execution_count": 49,
   "metadata": {
    "collapsed": false
   },
   "outputs": [
    {
     "data": {
      "text/plain": [
       "array([[[4, 4, 3],\n",
       "        [0, 0, 3],\n",
       "        [3, 3, 0]],\n",
       "\n",
       "       [[1, 3, 2],\n",
       "        [2, 3, 3],\n",
       "        [4, 0, 2]],\n",
       "\n",
       "       [[1, 2, 1],\n",
       "        [0, 0, 0],\n",
       "        [0, 2, 0]]])"
      ]
     },
     "execution_count": 49,
     "metadata": {},
     "output_type": "execute_result"
    }
   ],
   "source": [
    "reduced_test2*o\n"
   ]
  },
  {
   "cell_type": "code",
   "execution_count": 50,
   "metadata": {
    "collapsed": false
   },
   "outputs": [
    {
     "data": {
      "text/plain": [
       "True"
      ]
     },
     "execution_count": 50,
     "metadata": {},
     "output_type": "execute_result"
    }
   ],
   "source": [
    "np.bool((3,3,3))"
   ]
  },
  {
   "cell_type": "code",
   "execution_count": 51,
   "metadata": {
    "collapsed": false
   },
   "outputs": [
    {
     "data": {
      "text/plain": [
       "array([4, 4, 3, 0, 0, 3, 3, 3, 0, 1, 3, 2, 2, 3, 3, 4, 0, 2, 1, 2, 1, 0, 0,\n",
       "       0, 0, 2, 0])"
      ]
     },
     "execution_count": 51,
     "metadata": {},
     "output_type": "execute_result"
    }
   ],
   "source": [
    "np.ravel(reduced_test2)"
   ]
  },
  {
   "cell_type": "code",
   "execution_count": 52,
   "metadata": {
    "collapsed": true
   },
   "outputs": [],
   "source": [
    "x = np.arange(-5, 6, 1)"
   ]
  },
  {
   "cell_type": "code",
   "execution_count": 53,
   "metadata": {
    "collapsed": false
   },
   "outputs": [
    {
     "data": {
      "text/plain": [
       "array([-5, -4, -3, -2, -1,  0,  1,  2,  3,  4,  5])"
      ]
     },
     "execution_count": 53,
     "metadata": {},
     "output_type": "execute_result"
    }
   ],
   "source": [
    "x"
   ]
  },
  {
   "cell_type": "code",
   "execution_count": 54,
   "metadata": {
    "collapsed": true
   },
   "outputs": [],
   "source": [
    "y = np.arange(-5, 6, 1)"
   ]
  },
  {
   "cell_type": "code",
   "execution_count": 55,
   "metadata": {
    "collapsed": false
   },
   "outputs": [],
   "source": [
    "yv, xv = np.meshgrid(x, y, sparse=False, indexing='ij')"
   ]
  },
  {
   "cell_type": "code",
   "execution_count": null,
   "metadata": {
    "collapsed": false
   },
   "outputs": [],
   "source": []
  },
  {
   "cell_type": "code",
   "execution_count": 56,
   "metadata": {
    "collapsed": false
   },
   "outputs": [],
   "source": [
    "    voxel_size = np.array([0.5,0.5,0.5])\n",
    "    \n",
    "    z_voxel_dist, y_voxel_dist, x_voxel_dist = abs(np.mgrid[-2:2+1,\n",
    "        -2:2+1, \n",
    "        -2:2+1])\n",
    "\n",
    "    z_dist = z_voxel_dist*voxel_size[0]\n",
    "    y_dist = y_voxel_dist*voxel_size[1]\n",
    "    x_dist = x_voxel_dist*voxel_size[2]\n",
    "    \n",
    "    ground_truth = np.sqrt(z_dist**2 + y_dist**2 + x_dist**2)"
   ]
  },
  {
   "cell_type": "code",
   "execution_count": 2,
   "metadata": {
    "collapsed": false
   },
   "outputs": [],
   "source": [
    "test_mat = np.random.randint(100, size = (5,5,5))"
   ]
  },
  {
   "cell_type": "code",
   "execution_count": 4,
   "metadata": {
    "collapsed": false
   },
   "outputs": [],
   "source": [
    "a_bool = np.zeros((5,5,5), dtype = bool)"
   ]
  },
  {
   "cell_type": "raw",
   "metadata": {},
   "source": []
  },
  {
   "cell_type": "code",
   "execution_count": 5,
   "metadata": {
    "collapsed": false
   },
   "outputs": [],
   "source": [
    "a_bool[1:4,1:4,1:4] = True"
   ]
  },
  {
   "cell_type": "code",
   "execution_count": 60,
   "metadata": {
    "collapsed": false
   },
   "outputs": [
    {
     "data": {
      "text/plain": [
       "numpy.ndarray"
      ]
     },
     "execution_count": 60,
     "metadata": {},
     "output_type": "execute_result"
    }
   ],
   "source": [
    "type(a_bool)"
   ]
  },
  {
   "cell_type": "code",
   "execution_count": 61,
   "metadata": {
    "collapsed": false
   },
   "outputs": [],
   "source": [
    "c = test_mat[a_bool]"
   ]
  },
  {
   "cell_type": "code",
   "execution_count": 62,
   "metadata": {
    "collapsed": true
   },
   "outputs": [],
   "source": [
    "sizes = (3,3,3)"
   ]
  },
  {
   "cell_type": "code",
   "execution_count": 63,
   "metadata": {
    "collapsed": false
   },
   "outputs": [],
   "source": [
    "b = test_mat[a_bool]"
   ]
  },
  {
   "cell_type": "code",
   "execution_count": 64,
   "metadata": {
    "collapsed": false
   },
   "outputs": [],
   "source": [
    "reshape_b = np.reshape(b,sizes)"
   ]
  },
  {
   "cell_type": "code",
   "execution_count": 65,
   "metadata": {
    "collapsed": false
   },
   "outputs": [
    {
     "data": {
      "text/plain": [
       "98"
      ]
     },
     "execution_count": 65,
     "metadata": {},
     "output_type": "execute_result"
    }
   ],
   "source": [
    "reshape_b[np.unravel_index(c.argmax(), reshape_b.shape)]"
   ]
  },
  {
   "cell_type": "code",
   "execution_count": 66,
   "metadata": {
    "collapsed": false
   },
   "outputs": [
    {
     "data": {
      "text/plain": [
       "array([34, 38, 25, 53, 12, 53, 35, 92, 56, 80, 98, 65, 79, 61, 57, 23, 78,\n",
       "       76, 38, 70, 59, 63, 86, 80, 72,  7, 11])"
      ]
     },
     "execution_count": 66,
     "metadata": {},
     "output_type": "execute_result"
    }
   ],
   "source": [
    "c"
   ]
  },
  {
   "cell_type": "code",
   "execution_count": 67,
   "metadata": {
    "collapsed": false
   },
   "outputs": [
    {
     "data": {
      "text/plain": [
       "10"
      ]
     },
     "execution_count": 67,
     "metadata": {},
     "output_type": "execute_result"
    }
   ],
   "source": [
    "c.argmax()"
   ]
  },
  {
   "cell_type": "code",
   "execution_count": 68,
   "metadata": {
    "collapsed": false
   },
   "outputs": [
    {
     "data": {
      "text/plain": [
       "(1, 0, 1)"
      ]
     },
     "execution_count": 68,
     "metadata": {},
     "output_type": "execute_result"
    }
   ],
   "source": [
    "np.unravel_index(c.argmax(),reshape_b.shape)"
   ]
  },
  {
   "cell_type": "code",
   "execution_count": 69,
   "metadata": {
    "collapsed": false
   },
   "outputs": [
    {
     "data": {
      "text/plain": [
       "array([[[34, 38, 25],\n",
       "        [53, 12, 53],\n",
       "        [35, 92, 56]],\n",
       "\n",
       "       [[80, 98, 65],\n",
       "        [79, 61, 57],\n",
       "        [23, 78, 76]],\n",
       "\n",
       "       [[38, 70, 59],\n",
       "        [63, 86, 80],\n",
       "        [72,  7, 11]]])"
      ]
     },
     "execution_count": 69,
     "metadata": {},
     "output_type": "execute_result"
    }
   ],
   "source": [
    "reshape_b"
   ]
  },
  {
   "cell_type": "code",
   "execution_count": 70,
   "metadata": {
    "collapsed": true
   },
   "outputs": [],
   "source": [
    "test_grid = np.mgrid[0:5, 0:5, 0:5]"
   ]
  },
  {
   "cell_type": "code",
   "execution_count": 71,
   "metadata": {
    "collapsed": false
   },
   "outputs": [
    {
     "data": {
      "text/plain": [
       "(5, 5, 5)"
      ]
     },
     "execution_count": 71,
     "metadata": {},
     "output_type": "execute_result"
    }
   ],
   "source": [
    "a_bool.shape"
   ]
  },
  {
   "cell_type": "code",
   "execution_count": 72,
   "metadata": {
    "collapsed": false
   },
   "outputs": [
    {
     "data": {
      "text/plain": [
       "(5, 5, 5)"
      ]
     },
     "execution_count": 72,
     "metadata": {},
     "output_type": "execute_result"
    }
   ],
   "source": [
    "test_grid[0].shape"
   ]
  },
  {
   "cell_type": "code",
   "execution_count": 73,
   "metadata": {
    "collapsed": false
   },
   "outputs": [
    {
     "data": {
      "text/plain": [
       "array([1, 1, 1, 1, 1, 1, 1, 1, 1, 2, 2, 2, 2, 2, 2, 2, 2, 2, 3, 3, 3, 3, 3,\n",
       "       3, 3, 3, 3])"
      ]
     },
     "execution_count": 73,
     "metadata": {},
     "output_type": "execute_result"
    }
   ],
   "source": [
    "test_grid[0][a_bool]"
   ]
  },
  {
   "cell_type": "code",
   "execution_count": 74,
   "metadata": {
    "collapsed": true
   },
   "outputs": [],
   "source": [
    "reduced_size = [5,6,6]"
   ]
  },
  {
   "cell_type": "code",
   "execution_count": 75,
   "metadata": {
    "collapsed": false
   },
   "outputs": [
    {
     "data": {
      "text/plain": [
       "(5, 5, 5)"
      ]
     },
     "execution_count": 75,
     "metadata": {},
     "output_type": "execute_result"
    }
   ],
   "source": [
    "test_mat.shape"
   ]
  },
  {
   "cell_type": "code",
   "execution_count": 76,
   "metadata": {
    "collapsed": false
   },
   "outputs": [
    {
     "data": {
      "text/plain": [
       "array([[[[-1, -1, -1, -1, -1],\n",
       "         [-1, -1, -1, -1, -1],\n",
       "         [-1, -1, -1, -1, -1],\n",
       "         [-1, -1, -1, -1, -1],\n",
       "         [-1, -1, -1, -1, -1]],\n",
       "\n",
       "        [[ 0,  0,  0,  0,  0],\n",
       "         [ 0,  0,  0,  0,  0],\n",
       "         [ 0,  0,  0,  0,  0],\n",
       "         [ 0,  0,  0,  0,  0],\n",
       "         [ 0,  0,  0,  0,  0]],\n",
       "\n",
       "        [[ 1,  1,  1,  1,  1],\n",
       "         [ 1,  1,  1,  1,  1],\n",
       "         [ 1,  1,  1,  1,  1],\n",
       "         [ 1,  1,  1,  1,  1],\n",
       "         [ 1,  1,  1,  1,  1]],\n",
       "\n",
       "        [[ 2,  2,  2,  2,  2],\n",
       "         [ 2,  2,  2,  2,  2],\n",
       "         [ 2,  2,  2,  2,  2],\n",
       "         [ 2,  2,  2,  2,  2],\n",
       "         [ 2,  2,  2,  2,  2]],\n",
       "\n",
       "        [[ 3,  3,  3,  3,  3],\n",
       "         [ 3,  3,  3,  3,  3],\n",
       "         [ 3,  3,  3,  3,  3],\n",
       "         [ 3,  3,  3,  3,  3],\n",
       "         [ 3,  3,  3,  3,  3]]],\n",
       "\n",
       "\n",
       "       [[[-1, -1, -1, -1, -1],\n",
       "         [ 0,  0,  0,  0,  0],\n",
       "         [ 1,  1,  1,  1,  1],\n",
       "         [ 2,  2,  2,  2,  2],\n",
       "         [ 3,  3,  3,  3,  3]],\n",
       "\n",
       "        [[-1, -1, -1, -1, -1],\n",
       "         [ 0,  0,  0,  0,  0],\n",
       "         [ 1,  1,  1,  1,  1],\n",
       "         [ 2,  2,  2,  2,  2],\n",
       "         [ 3,  3,  3,  3,  3]],\n",
       "\n",
       "        [[-1, -1, -1, -1, -1],\n",
       "         [ 0,  0,  0,  0,  0],\n",
       "         [ 1,  1,  1,  1,  1],\n",
       "         [ 2,  2,  2,  2,  2],\n",
       "         [ 3,  3,  3,  3,  3]],\n",
       "\n",
       "        [[-1, -1, -1, -1, -1],\n",
       "         [ 0,  0,  0,  0,  0],\n",
       "         [ 1,  1,  1,  1,  1],\n",
       "         [ 2,  2,  2,  2,  2],\n",
       "         [ 3,  3,  3,  3,  3]],\n",
       "\n",
       "        [[-1, -1, -1, -1, -1],\n",
       "         [ 0,  0,  0,  0,  0],\n",
       "         [ 1,  1,  1,  1,  1],\n",
       "         [ 2,  2,  2,  2,  2],\n",
       "         [ 3,  3,  3,  3,  3]]],\n",
       "\n",
       "\n",
       "       [[[-1,  0,  1,  2,  3],\n",
       "         [-1,  0,  1,  2,  3],\n",
       "         [-1,  0,  1,  2,  3],\n",
       "         [-1,  0,  1,  2,  3],\n",
       "         [-1,  0,  1,  2,  3]],\n",
       "\n",
       "        [[-1,  0,  1,  2,  3],\n",
       "         [-1,  0,  1,  2,  3],\n",
       "         [-1,  0,  1,  2,  3],\n",
       "         [-1,  0,  1,  2,  3],\n",
       "         [-1,  0,  1,  2,  3]],\n",
       "\n",
       "        [[-1,  0,  1,  2,  3],\n",
       "         [-1,  0,  1,  2,  3],\n",
       "         [-1,  0,  1,  2,  3],\n",
       "         [-1,  0,  1,  2,  3],\n",
       "         [-1,  0,  1,  2,  3]],\n",
       "\n",
       "        [[-1,  0,  1,  2,  3],\n",
       "         [-1,  0,  1,  2,  3],\n",
       "         [-1,  0,  1,  2,  3],\n",
       "         [-1,  0,  1,  2,  3],\n",
       "         [-1,  0,  1,  2,  3]],\n",
       "\n",
       "        [[-1,  0,  1,  2,  3],\n",
       "         [-1,  0,  1,  2,  3],\n",
       "         [-1,  0,  1,  2,  3],\n",
       "         [-1,  0,  1,  2,  3],\n",
       "         [-1,  0,  1,  2,  3]]]])"
      ]
     },
     "execution_count": 76,
     "metadata": {},
     "output_type": "execute_result"
    }
   ],
   "source": [
    "np.mgrid[-1:4,-1:4,-1:4]"
   ]
  },
  {
   "cell_type": "code",
   "execution_count": 77,
   "metadata": {
    "collapsed": true
   },
   "outputs": [],
   "source": [
    "target_size = [5,10,10]"
   ]
  },
  {
   "cell_type": "code",
   "execution_count": 78,
   "metadata": {
    "collapsed": false
   },
   "outputs": [],
   "source": [
    "target_poi = [3,3,3]"
   ]
  },
  {
   "cell_type": "code",
   "execution_count": 79,
   "metadata": {
    "collapsed": true
   },
   "outputs": [],
   "source": [
    "        z_lower = target_size[0]-target_poi[0]\n",
    "        z_upper = target_size[0]-z_lower\n",
    "        y_lower = target_size[1]-target_poi[1]\n",
    "        y_upper = target_size[1]-y_lower\n",
    "        x_lower = target_size[2]-target_poi[2]\n",
    "        x_upper = target_size[2]-x_lower\n",
    "\n",
    "\n",
    "        z_voxel_dist, y_voxel_dist, x_voxel_dist = abs(np.mgrid[-z_upper:z_lower,-y_upper:y_lower, -x_upper:x_lower])"
   ]
  },
  {
   "cell_type": "code",
   "execution_count": 80,
   "metadata": {
    "collapsed": false
   },
   "outputs": [
    {
     "data": {
      "text/plain": [
       "array([[[3, 3, 3, 3, 3, 3, 3, 3, 3, 3],\n",
       "        [2, 2, 2, 2, 2, 2, 2, 2, 2, 2],\n",
       "        [1, 1, 1, 1, 1, 1, 1, 1, 1, 1],\n",
       "        [0, 0, 0, 0, 0, 0, 0, 0, 0, 0],\n",
       "        [1, 1, 1, 1, 1, 1, 1, 1, 1, 1],\n",
       "        [2, 2, 2, 2, 2, 2, 2, 2, 2, 2],\n",
       "        [3, 3, 3, 3, 3, 3, 3, 3, 3, 3],\n",
       "        [4, 4, 4, 4, 4, 4, 4, 4, 4, 4],\n",
       "        [5, 5, 5, 5, 5, 5, 5, 5, 5, 5],\n",
       "        [6, 6, 6, 6, 6, 6, 6, 6, 6, 6]],\n",
       "\n",
       "       [[3, 3, 3, 3, 3, 3, 3, 3, 3, 3],\n",
       "        [2, 2, 2, 2, 2, 2, 2, 2, 2, 2],\n",
       "        [1, 1, 1, 1, 1, 1, 1, 1, 1, 1],\n",
       "        [0, 0, 0, 0, 0, 0, 0, 0, 0, 0],\n",
       "        [1, 1, 1, 1, 1, 1, 1, 1, 1, 1],\n",
       "        [2, 2, 2, 2, 2, 2, 2, 2, 2, 2],\n",
       "        [3, 3, 3, 3, 3, 3, 3, 3, 3, 3],\n",
       "        [4, 4, 4, 4, 4, 4, 4, 4, 4, 4],\n",
       "        [5, 5, 5, 5, 5, 5, 5, 5, 5, 5],\n",
       "        [6, 6, 6, 6, 6, 6, 6, 6, 6, 6]],\n",
       "\n",
       "       [[3, 3, 3, 3, 3, 3, 3, 3, 3, 3],\n",
       "        [2, 2, 2, 2, 2, 2, 2, 2, 2, 2],\n",
       "        [1, 1, 1, 1, 1, 1, 1, 1, 1, 1],\n",
       "        [0, 0, 0, 0, 0, 0, 0, 0, 0, 0],\n",
       "        [1, 1, 1, 1, 1, 1, 1, 1, 1, 1],\n",
       "        [2, 2, 2, 2, 2, 2, 2, 2, 2, 2],\n",
       "        [3, 3, 3, 3, 3, 3, 3, 3, 3, 3],\n",
       "        [4, 4, 4, 4, 4, 4, 4, 4, 4, 4],\n",
       "        [5, 5, 5, 5, 5, 5, 5, 5, 5, 5],\n",
       "        [6, 6, 6, 6, 6, 6, 6, 6, 6, 6]],\n",
       "\n",
       "       [[3, 3, 3, 3, 3, 3, 3, 3, 3, 3],\n",
       "        [2, 2, 2, 2, 2, 2, 2, 2, 2, 2],\n",
       "        [1, 1, 1, 1, 1, 1, 1, 1, 1, 1],\n",
       "        [0, 0, 0, 0, 0, 0, 0, 0, 0, 0],\n",
       "        [1, 1, 1, 1, 1, 1, 1, 1, 1, 1],\n",
       "        [2, 2, 2, 2, 2, 2, 2, 2, 2, 2],\n",
       "        [3, 3, 3, 3, 3, 3, 3, 3, 3, 3],\n",
       "        [4, 4, 4, 4, 4, 4, 4, 4, 4, 4],\n",
       "        [5, 5, 5, 5, 5, 5, 5, 5, 5, 5],\n",
       "        [6, 6, 6, 6, 6, 6, 6, 6, 6, 6]],\n",
       "\n",
       "       [[3, 3, 3, 3, 3, 3, 3, 3, 3, 3],\n",
       "        [2, 2, 2, 2, 2, 2, 2, 2, 2, 2],\n",
       "        [1, 1, 1, 1, 1, 1, 1, 1, 1, 1],\n",
       "        [0, 0, 0, 0, 0, 0, 0, 0, 0, 0],\n",
       "        [1, 1, 1, 1, 1, 1, 1, 1, 1, 1],\n",
       "        [2, 2, 2, 2, 2, 2, 2, 2, 2, 2],\n",
       "        [3, 3, 3, 3, 3, 3, 3, 3, 3, 3],\n",
       "        [4, 4, 4, 4, 4, 4, 4, 4, 4, 4],\n",
       "        [5, 5, 5, 5, 5, 5, 5, 5, 5, 5],\n",
       "        [6, 6, 6, 6, 6, 6, 6, 6, 6, 6]]])"
      ]
     },
     "execution_count": 80,
     "metadata": {},
     "output_type": "execute_result"
    }
   ],
   "source": [
    "y_voxel_dist"
   ]
  },
  {
   "cell_type": "code",
   "execution_count": 3,
   "metadata": {
    "collapsed": true
   },
   "outputs": [],
   "source": [
    "import numpy as np"
   ]
  },
  {
   "cell_type": "code",
   "execution_count": 144,
   "metadata": {
    "collapsed": false
   },
   "outputs": [],
   "source": [
    "a = np.zeros((6,2,2))"
   ]
  },
  {
   "cell_type": "code",
   "execution_count": 145,
   "metadata": {
    "collapsed": false
   },
   "outputs": [],
   "source": [
    "b = np.ones((6,2,2))"
   ]
  },
  {
   "cell_type": "code",
   "execution_count": 146,
   "metadata": {
    "collapsed": false
   },
   "outputs": [],
   "source": [
    "c = list(zip(a,b))"
   ]
  },
  {
   "cell_type": "code",
   "execution_count": 151,
   "metadata": {
    "collapsed": false
   },
   "outputs": [],
   "source": [
    "select = [1,2,4]"
   ]
  },
  {
   "cell_type": "code",
   "execution_count": 155,
   "metadata": {
    "collapsed": false
   },
   "outputs": [
    {
     "data": {
      "text/plain": [
       "[(array([[ 0.,  0.],\n",
       "         [ 0.,  0.]]), array([[ 1.,  1.],\n",
       "         [ 1.,  1.]])), (array([[ 0.,  0.],\n",
       "         [ 0.,  0.]]), array([[ 1.,  1.],\n",
       "         [ 1.,  1.]])), (array([[ 0.,  0.],\n",
       "         [ 0.,  0.]]), array([[ 1.,  1.],\n",
       "         [ 1.,  1.]]))]"
      ]
     },
     "execution_count": 155,
     "metadata": {},
     "output_type": "execute_result"
    }
   ],
   "source": [
    "[c[k] for k in select]"
   ]
  },
  {
   "cell_type": "code",
   "execution_count": 156,
   "metadata": {
    "collapsed": false
   },
   "outputs": [
    {
     "data": {
      "text/plain": [
       "[(array([[ 0.,  0.],\n",
       "         [ 0.,  0.]]), array([[ 1.,  1.],\n",
       "         [ 1.,  1.]])), (array([[ 0.,  0.],\n",
       "         [ 0.,  0.]]), array([[ 1.,  1.],\n",
       "         [ 1.,  1.]])), (array([[ 0.,  0.],\n",
       "         [ 0.,  0.]]), array([[ 1.,  1.],\n",
       "         [ 1.,  1.]])), (array([[ 0.,  0.],\n",
       "         [ 0.,  0.]]), array([[ 1.,  1.],\n",
       "         [ 1.,  1.]])), (array([[ 0.,  0.],\n",
       "         [ 0.,  0.]]), array([[ 1.,  1.],\n",
       "         [ 1.,  1.]])), (array([[ 0.,  0.],\n",
       "         [ 0.,  0.]]), array([[ 1.,  1.],\n",
       "         [ 1.,  1.]]))]"
      ]
     },
     "execution_count": 156,
     "metadata": {},
     "output_type": "execute_result"
    }
   ],
   "source": [
    "c"
   ]
  },
  {
   "cell_type": "code",
   "execution_count": 128,
   "metadata": {
    "collapsed": false
   },
   "outputs": [],
   "source": [
    "cd = [1,2,3]"
   ]
  },
  {
   "cell_type": "code",
   "execution_count": 129,
   "metadata": {
    "collapsed": false
   },
   "outputs": [],
   "source": [
    "sd = [4,5,6]"
   ]
  },
  {
   "cell_type": "code",
   "execution_count": 130,
   "metadata": {
    "collapsed": true
   },
   "outputs": [],
   "source": [
    "fc = [7,8,9]"
   ]
  },
  {
   "cell_type": "code",
   "execution_count": 131,
   "metadata": {
    "collapsed": true
   },
   "outputs": [],
   "source": [
    "asd = list(zip(*[cd,sd,fc]))"
   ]
  },
  {
   "cell_type": "code",
   "execution_count": 132,
   "metadata": {
    "collapsed": false
   },
   "outputs": [
    {
     "data": {
      "text/plain": [
       "[(1, 4, 7), (2, 5, 8), (3, 6, 9)]"
      ]
     },
     "execution_count": 132,
     "metadata": {},
     "output_type": "execute_result"
    }
   ],
   "source": [
    "asd"
   ]
  },
  {
   "cell_type": "code",
   "execution_count": 157,
   "metadata": {
    "collapsed": false
   },
   "outputs": [],
   "source": [
    "asdd = list(zip(asd,asd))"
   ]
  },
  {
   "cell_type": "code",
   "execution_count": 158,
   "metadata": {
    "collapsed": false
   },
   "outputs": [
    {
     "data": {
      "text/plain": [
       "[((1, 4, 7), (1, 4, 7)), ((2, 5, 8), (2, 5, 8)), ((3, 6, 9), (3, 6, 9))]"
      ]
     },
     "execution_count": 158,
     "metadata": {},
     "output_type": "execute_result"
    }
   ],
   "source": [
    "asdd"
   ]
  },
  {
   "cell_type": "code",
   "execution_count": 159,
   "metadata": {
    "collapsed": false
   },
   "outputs": [
    {
     "data": {
      "text/plain": [
       "((2, 5, 8), (2, 5, 8))"
      ]
     },
     "execution_count": 159,
     "metadata": {},
     "output_type": "execute_result"
    }
   ],
   "source": [
    "asdd[1]"
   ]
  },
  {
   "cell_type": "code",
   "execution_count": 126,
   "metadata": {
    "collapsed": false
   },
   "outputs": [
    {
     "data": {
      "text/plain": [
       "((1, 4, 7), (1, 4, 7))"
      ]
     },
     "execution_count": 126,
     "metadata": {},
     "output_type": "execute_result"
    }
   ],
   "source": [
    "asdd[0]"
   ]
  },
  {
   "cell_type": "code",
   "execution_count": 127,
   "metadata": {
    "collapsed": false
   },
   "outputs": [
    {
     "data": {
      "text/plain": [
       "(3,)"
      ]
     },
     "execution_count": 127,
     "metadata": {},
     "output_type": "execute_result"
    }
   ],
   "source": [
    "np.array(asdd[0][0]).shape"
   ]
  },
  {
   "cell_type": "code",
   "execution_count": 160,
   "metadata": {
    "collapsed": true
   },
   "outputs": [],
   "source": [
    "import random"
   ]
  },
  {
   "cell_type": "code",
   "execution_count": 162,
   "metadata": {
    "collapsed": false
   },
   "outputs": [
    {
     "data": {
      "text/plain": [
       "0.2407108169472062"
      ]
     },
     "execution_count": 162,
     "metadata": {},
     "output_type": "execute_result"
    }
   ],
   "source": [
    "random.random()"
   ]
  },
  {
   "cell_type": "code",
   "execution_count": null,
   "metadata": {
    "collapsed": true
   },
   "outputs": [],
   "source": []
  },
  {
   "cell_type": "code",
   "execution_count": null,
   "metadata": {
    "collapsed": true
   },
   "outputs": [],
   "source": []
  }
 ],
 "metadata": {
  "kernelspec": {
   "display_name": "Python 3",
   "language": "python",
   "name": "python3"
  },
  "language_info": {
   "codemirror_mode": {
    "name": "ipython",
    "version": 3
   },
   "file_extension": ".py",
   "mimetype": "text/x-python",
   "name": "python",
   "nbconvert_exporter": "python",
   "pygments_lexer": "ipython3",
   "version": "3.4.3+"
  }
 },
 "nbformat": 4,
 "nbformat_minor": 0
}
