{
 "cells": [
  {
   "cell_type": "code",
   "execution_count": 8,
   "metadata": {
    "collapsed": false
   },
   "outputs": [],
   "source": [
    "from utilities import Utils\n",
    "from feature_extraction import Feature\n",
    "from forest_regression import run_forest\n",
    "from forest_regression import RegressionForest\n",
    "from sklearn.externals import joblib\n",
    "from amrafile import amrafile as af\n",
    "import json\n",
    "import numpy as np\n",
    "\n",
    "with open(\"/home/hannes/code/git/parameters.json\") as json_file:\n",
    "    json_data = json.load(json_file)\n",
    "\n",
    "directory = json_data.get(\"directory\")\n",
    "train_targets = json_data.get(\"train_targets\")\n",
    "prototype_path = json_data.get(\"prototype_path\")\n",
    "\n",
    "\n",
    "''' choose POI '''\n",
    "poi = json_data.get('poi')\n",
    "\n",
    "''' Haar feature parameters '''\n",
    "search_size = np.array(json_data.get('search_size'))\n",
    "nbr_of_filters = json_data.get('nbr_of_filters')\n",
    "patch_size = json_data.get('patch_size')\n",
    "\n",
    "''' Search extension for cross correlation''' \n",
    "extension = json_data.get('extension')\n",
    "\n",
    "''' Load trained regression forest '''\n",
    "estimators = joblib.load('/home/hannes/code/git/trained/test2/RegressionForest.pkl') \n",
    "\n",
    "filter_bank = np.load('/home/hannes/code/git/trained/test2/filter_bank.npy')\n",
    "filter_parameters = np.load('/home/hannes/code/git/trained/test2/filter_parameters.npy')"
   ]
  },
  {
   "cell_type": "code",
   "execution_count": 9,
   "metadata": {
    "collapsed": true
   },
   "outputs": [],
   "source": [
    "test_target = '0019A'\n",
    "target_path = '/moria/data/DB/'+directory+test_target+'/wholebody_normalized_water_1_'+test_target+'.amra'"
   ]
  },
  {
   "cell_type": "code",
   "execution_count": 11,
   "metadata": {
    "collapsed": false
   },
   "outputs": [
    {
     "ename": "NameError",
     "evalue": "name 'aaads' is not defined",
     "output_type": "error",
     "traceback": [
      "\u001b[1;31m---------------------------------------------------------------------------\u001b[0m",
      "\u001b[1;31mNameError\u001b[0m                                 Traceback (most recent call last)",
      "\u001b[1;32m<ipython-input-11-0985949b0e0e>\u001b[0m in \u001b[0;36m<module>\u001b[1;34m()\u001b[0m\n\u001b[0;32m      5\u001b[0m \u001b[0mreduced_data\u001b[0m\u001b[1;33m,\u001b[0m \u001b[0mreduced_mask\u001b[0m \u001b[1;33m=\u001b[0m \u001b[0mutils\u001b[0m\u001b[1;33m.\u001b[0m\u001b[0msimple_search_reduction\u001b[0m\u001b[1;33m(\u001b[0m\u001b[1;33m)\u001b[0m\u001b[1;33m\u001b[0m\u001b[0m\n\u001b[0;32m      6\u001b[0m \u001b[1;33m\u001b[0m\u001b[0m\n\u001b[1;32m----> 7\u001b[1;33m \u001b[0mprint\u001b[0m\u001b[1;33m(\u001b[0m\u001b[0maaads\u001b[0m\u001b[1;33m)\u001b[0m\u001b[1;33m\u001b[0m\u001b[0m\n\u001b[0m\u001b[0;32m      8\u001b[0m \u001b[1;33m\u001b[0m\u001b[0m\n\u001b[0;32m      9\u001b[0m \u001b[1;34m''' Extract testing ground truth '''\u001b[0m\u001b[1;33m\u001b[0m\u001b[0m\n",
      "\u001b[1;31mNameError\u001b[0m: name 'aaads' is not defined"
     ]
    }
   ],
   "source": [
    "''' Create utils class object '''\n",
    "utils = Utils(target_path, search_size, extension, poi)\n",
    "\n",
    "''' Init POI as just the ground truth + noise to reduce training time'''\n",
    "reduced_data, reduced_mask = utils.simple_search_reduction()\n",
    "\n",
    "''' Extract testing ground truth '''\n",
    "ground_truth = utils.extract_ground_truth(reduced_mask)\n",
    "\n",
    "''' Create feature object '''\n",
    "feature = Feature(nbr_of_filters, patch_size)\n",
    "\n",
    "''' Extract testing features '''\n",
    "test_features = feature.feature_extraction(reduced_data, filter_bank, filter_parameters)\n",
    "\n",
    "''' Run test data through forest '''\n",
    "regression = run_forest(estimators, test_features)\n",
    "\n",
    "poi_pos = utils.extract_poi_position(regression, reduced_mask)\n",
    "\n",
    "print(poi_pos)"
   ]
  },
  {
   "cell_type": "code",
   "execution_count": null,
   "metadata": {
    "collapsed": true
   },
   "outputs": [],
   "source": []
  }
 ],
 "metadata": {
  "kernelspec": {
   "display_name": "Python 3",
   "language": "python",
   "name": "python3"
  },
  "language_info": {
   "codemirror_mode": {
    "name": "ipython",
    "version": 3
   },
   "file_extension": ".py",
   "mimetype": "text/x-python",
   "name": "python",
   "nbconvert_exporter": "python",
   "pygments_lexer": "ipython3",
   "version": "3.4.3+"
  }
 },
 "nbformat": 4,
 "nbformat_minor": 0
}
